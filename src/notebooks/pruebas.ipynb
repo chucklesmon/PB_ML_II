{
 "cells": [
  {
   "cell_type": "markdown",
   "id": "91be57e8",
   "metadata": {},
   "source": [
    "# 0. Imports"
   ]
  },
  {
   "cell_type": "code",
   "execution_count": 1,
   "id": "16fcd5d5",
   "metadata": {},
   "outputs": [],
   "source": [
    "import pickle\n",
    "import numpy as np\n",
    "import pandas as pd\n",
    "import seaborn as sns\n",
    "import matplotlib.pyplot as plt\n",
    "from scipy import stats\n",
    "from scipy.special import inv_boxcox\n",
    "# Procesamiento\n",
    "from sklearn.impute import SimpleImputer\n",
    "from sklearn.preprocessing import StandardScaler\n",
    "from sklearn.compose import ColumnTransformer\n",
    "from sklearn.pipeline import Pipeline\n",
    "from sklearn.feature_selection import SelectKBest\n",
    "# Modelos\n",
    "from sklearn.linear_model import LinearRegression, Ridge, Lasso, LogisticRegression\n",
    "from sklearn.tree import DecisionTreeRegressor\n",
    "from sklearn.ensemble import RandomForestRegressor, GradientBoostingRegressor, HistGradientBoostingRegressor, RandomForestClassifier\n",
    "from sklearn.svm import SVC\n",
    "# Validación y Búsqueda\n",
    "from sklearn.model_selection import train_test_split, GridSearchCV, RandomizedSearchCV\n",
    "# Métricas\n",
    "from sklearn.metrics import r2_score, mean_absolute_error, mean_squared_error\n"
   ]
  },
  {
   "cell_type": "markdown",
   "id": "5df8a632",
   "metadata": {},
   "source": [
    "# 1. Cargar Datos"
   ]
  },
  {
   "cell_type": "code",
   "execution_count": 2,
   "id": "8baaa6af",
   "metadata": {},
   "outputs": [],
   "source": [
    "# cargo el dataset\n",
    "df_raw = pd.read_csv('../data_sample/amazon_best_sellers_2025_01_27.csv')"
   ]
  },
  {
   "cell_type": "code",
   "execution_count": 3,
   "id": "e9fdb6c8",
   "metadata": {},
   "outputs": [
    {
     "data": {
      "text/plain": [
       "(25874, 30)"
      ]
     },
     "execution_count": 3,
     "metadata": {},
     "output_type": "execute_result"
    }
   ],
   "source": [
    "df_raw.shape"
   ]
  },
  {
   "cell_type": "code",
   "execution_count": 4,
   "id": "e9589ac8",
   "metadata": {},
   "outputs": [
    {
     "name": "stdout",
     "output_type": "stream",
     "text": [
      "shape post añadir columna: (25874, 31)\n",
      "shape post borrar columnas: (25874, 29)\n"
     ]
    }
   ],
   "source": [
    "df_raw['price'] = df_raw['listedPrice'].combine_first(df_raw['salePrice']) # Combino listedPrice y salePrice, priorizando listedPrice para coger valores de salePrice solo cuando la primera sea nulo\n",
    "print(f'shape post añadir columna: {df_raw.shape}') # Comprobación de que se añadio la columna\n",
    "df_raw.drop(columns = ['listedPrice', 'salePrice'], inplace=True) # Elimino las columnas listedPrice y salePrice\n",
    "print(f'shape post borrar columnas: {df_raw.shape}') # Comprobación de que se añadio la columna"
   ]
  },
  {
   "cell_type": "markdown",
   "id": "eaf9cabd",
   "metadata": {},
   "source": [
    "# Revisión y pruebas para entender dataset"
   ]
  },
  {
   "cell_type": "code",
   "execution_count": 5,
   "id": "a3cc25e1",
   "metadata": {},
   "outputs": [
    {
     "data": {
      "text/html": [
       "<div>\n",
       "<style scoped>\n",
       "    .dataframe tbody tr th:only-of-type {\n",
       "        vertical-align: middle;\n",
       "    }\n",
       "\n",
       "    .dataframe tbody tr th {\n",
       "        vertical-align: top;\n",
       "    }\n",
       "\n",
       "    .dataframe thead th {\n",
       "        text-align: right;\n",
       "    }\n",
       "</style>\n",
       "<table border=\"1\" class=\"dataframe\">\n",
       "  <thead>\n",
       "    <tr style=\"text-align: right;\">\n",
       "      <th></th>\n",
       "      <th>additionalProperties</th>\n",
       "      <th>brandName</th>\n",
       "      <th>breadcrumbs</th>\n",
       "      <th>color</th>\n",
       "      <th>currency</th>\n",
       "      <th>current_depth</th>\n",
       "      <th>description</th>\n",
       "      <th>descriptionRaw</th>\n",
       "      <th>features</th>\n",
       "      <th>gtin</th>\n",
       "      <th>...</th>\n",
       "      <th>scrapedDate</th>\n",
       "      <th>size</th>\n",
       "      <th>sku</th>\n",
       "      <th>style</th>\n",
       "      <th>url</th>\n",
       "      <th>variants</th>\n",
       "      <th>weight_rawUnit</th>\n",
       "      <th>weight_unit</th>\n",
       "      <th>weight_value</th>\n",
       "      <th>price</th>\n",
       "    </tr>\n",
       "  </thead>\n",
       "  <tbody>\n",
       "    <tr>\n",
       "      <th>0</th>\n",
       "      <td>[{\"name\": \"mpaa rating\", \"value\": \"PG (Parenta...</td>\n",
       "      <td>NaN</td>\n",
       "      <td>[{\"name\": \"Movies &amp; TV\"}, {\"name\": \"Featured C...</td>\n",
       "      <td>NaN</td>\n",
       "      <td>USD</td>\n",
       "      <td>1</td>\n",
       "      <td>Amazon Exclusive 4K UHD + BD Steelbook, Amazon...</td>\n",
       "      <td>&lt;article&gt;\\n\\n&lt;p&gt;Amazon Exclusive 4K UHD + BD S...</td>\n",
       "      <td>NaN</td>\n",
       "      <td>NaN</td>\n",
       "      <td>...</td>\n",
       "      <td>2025-01-23T11:03:28Z</td>\n",
       "      <td>1 x 1 x 1 inches; 2.4 ounces</td>\n",
       "      <td>B0DTQCFGX3</td>\n",
       "      <td>NaN</td>\n",
       "      <td>https://www.amazon.com/dp/B0DTQCFGX3</td>\n",
       "      <td>NaN</td>\n",
       "      <td>NaN</td>\n",
       "      <td>NaN</td>\n",
       "      <td>NaN</td>\n",
       "      <td>44.99</td>\n",
       "    </tr>\n",
       "    <tr>\n",
       "      <th>1</th>\n",
       "      <td>[{\"name\": \"product dimensions\", \"value\": \"22 x...</td>\n",
       "      <td>Amazon Basics</td>\n",
       "      <td>[{\"name\": \"Pet Supplies\"}, {\"name\": \"Dogs\"}, {...</td>\n",
       "      <td>Blue &amp; White</td>\n",
       "      <td>USD</td>\n",
       "      <td>1</td>\n",
       "      <td>About this item\\n\\nINCLUDES: 100 Regular-size ...</td>\n",
       "      <td>&lt;article&gt;\\n\\n&lt;h2&gt;About this item&lt;/h2&gt;\\n\\n&lt;ul&gt;&lt;...</td>\n",
       "      <td>[\"INCLUDES: 100 Regular-size standard-absorben...</td>\n",
       "      <td>[{\"type\": \"gtin14\", \"value\": \"00841710108361\"}]</td>\n",
       "      <td>...</td>\n",
       "      <td>2025-01-23T11:03:35Z</td>\n",
       "      <td>Regular (100 Count)</td>\n",
       "      <td>B00MW8G62E</td>\n",
       "      <td>Regular</td>\n",
       "      <td>https://www.amazon.com/Amazon-Basics-Leak-Proo...</td>\n",
       "      <td>[{\"size\": \"Giant (40 Count)\"}, {\"size\": \"X-Lar...</td>\n",
       "      <td>Ounces</td>\n",
       "      <td>ounce</td>\n",
       "      <td>1.76</td>\n",
       "      <td>20.99</td>\n",
       "    </tr>\n",
       "    <tr>\n",
       "      <th>2</th>\n",
       "      <td>[{\"name\": \"brand\", \"value\": \"Alpha Grillers\"},...</td>\n",
       "      <td>Alpha Grillers</td>\n",
       "      <td>[{\"name\": \"Home &amp; Kitchen\"}, {\"name\": \"Kitchen...</td>\n",
       "      <td>Black/Red</td>\n",
       "      <td>USD</td>\n",
       "      <td>1</td>\n",
       "      <td>About this item\\n\\nInstant Read Food Thermomet...</td>\n",
       "      <td>&lt;article&gt;\\n\\n&lt;h2&gt;About this item&lt;/h2&gt;\\n\\n&lt;ul&gt;&lt;...</td>\n",
       "      <td>[\"Instant Read Food Thermometer | Our instant ...</td>\n",
       "      <td>[{\"type\": \"gtin14\", \"value\": \"00889121405136\"}]</td>\n",
       "      <td>...</td>\n",
       "      <td>2025-01-23T11:03:38Z</td>\n",
       "      <td>NaN</td>\n",
       "      <td>B00S93EQUK</td>\n",
       "      <td>NaN</td>\n",
       "      <td>https://www.amazon.com/Thermometer-Cooking-BAC...</td>\n",
       "      <td>NaN</td>\n",
       "      <td>ounces</td>\n",
       "      <td>ounce</td>\n",
       "      <td>2.40</td>\n",
       "      <td>19.99</td>\n",
       "    </tr>\n",
       "    <tr>\n",
       "      <th>3</th>\n",
       "      <td>[{\"name\": \"asin\", \"value\": \"B0CW1FKFB9\"}, {\"na...</td>\n",
       "      <td>Rebecca Yarros</td>\n",
       "      <td>[{\"name\": \"Kindle Store\"}, {\"name\": \"Kindle eB...</td>\n",
       "      <td>NaN</td>\n",
       "      <td>USD</td>\n",
       "      <td>1</td>\n",
       "      <td>Rebecca Yarros is the #1 New York Times bestse...</td>\n",
       "      <td>&lt;article&gt;\\n\\n&lt;p&gt;Rebecca Yarros is the #1 New Y...</td>\n",
       "      <td>NaN</td>\n",
       "      <td>NaN</td>\n",
       "      <td>...</td>\n",
       "      <td>2025-01-23T11:03:42Z</td>\n",
       "      <td>4603 KB</td>\n",
       "      <td>B0CW1FKFB9</td>\n",
       "      <td>NaN</td>\n",
       "      <td>https://www.amazon.com/Onyx-Storm-Empyrean-Boo...</td>\n",
       "      <td>NaN</td>\n",
       "      <td>NaN</td>\n",
       "      <td>NaN</td>\n",
       "      <td>4603.00</td>\n",
       "      <td>29.99</td>\n",
       "    </tr>\n",
       "    <tr>\n",
       "      <th>4</th>\n",
       "      <td>[{\"name\": \"size\", \"value\": \"Medium (Pack of 10...</td>\n",
       "      <td>MED PRIDE</td>\n",
       "      <td>[{\"name\": \"Industrial &amp; Scientific\"}, {\"name\":...</td>\n",
       "      <td>Iris Blue</td>\n",
       "      <td>USD</td>\n",
       "      <td>1</td>\n",
       "      <td>About this item\\n\\nNitrile\\nImported\\nThe idea...</td>\n",
       "      <td>&lt;article&gt;\\n\\n&lt;h2&gt;About this item&lt;/h2&gt;\\n\\n&lt;ul&gt;&lt;...</td>\n",
       "      <td>[\"Nitrile\", \"Imported\", \"The ideal solution fo...</td>\n",
       "      <td>NaN</td>\n",
       "      <td>...</td>\n",
       "      <td>2025-01-23T11:03:51Z</td>\n",
       "      <td>Medium (Pack of 100)</td>\n",
       "      <td>B00GS8W3T4</td>\n",
       "      <td>NaN</td>\n",
       "      <td>https://www.amazon.com/MedPride-Powder-Free-Ni...</td>\n",
       "      <td>[{\"size\": \"Small (pack of 100)\"}, {\"size\": \"Sm...</td>\n",
       "      <td>NaN</td>\n",
       "      <td>NaN</td>\n",
       "      <td>NaN</td>\n",
       "      <td>9.99</td>\n",
       "    </tr>\n",
       "    <tr>\n",
       "      <th>...</th>\n",
       "      <td>...</td>\n",
       "      <td>...</td>\n",
       "      <td>...</td>\n",
       "      <td>...</td>\n",
       "      <td>...</td>\n",
       "      <td>...</td>\n",
       "      <td>...</td>\n",
       "      <td>...</td>\n",
       "      <td>...</td>\n",
       "      <td>...</td>\n",
       "      <td>...</td>\n",
       "      <td>...</td>\n",
       "      <td>...</td>\n",
       "      <td>...</td>\n",
       "      <td>...</td>\n",
       "      <td>...</td>\n",
       "      <td>...</td>\n",
       "      <td>...</td>\n",
       "      <td>...</td>\n",
       "      <td>...</td>\n",
       "      <td>...</td>\n",
       "    </tr>\n",
       "    <tr>\n",
       "      <th>25869</th>\n",
       "      <td>[{\"name\": \"product dimensions\", \"value\": \"2.28...</td>\n",
       "      <td>NaN</td>\n",
       "      <td>[{\"name\": \"Toys &amp; Games\"}, {\"name\": \"Novelty &amp;...</td>\n",
       "      <td>Earth</td>\n",
       "      <td>USD</td>\n",
       "      <td>4</td>\n",
       "      <td>Unlike other puzzle box toys that turn out dis...</td>\n",
       "      <td>&lt;article&gt;\\n\\n&lt;ul&gt;&lt;li&gt; Unlike other puzzle box ...</td>\n",
       "      <td>[\"Unlike other puzzle box toys that turn out d...</td>\n",
       "      <td>NaN</td>\n",
       "      <td>...</td>\n",
       "      <td>2025-01-23T21:29:41Z</td>\n",
       "      <td>2.28 x 2.28 x 2.28 inches</td>\n",
       "      <td>B091M9N4FC</td>\n",
       "      <td>NaN</td>\n",
       "      <td>https://www.amazon.com/SHASHIBO-Shape-Shifting...</td>\n",
       "      <td>[{\"color\": \"Moon\"}, {\"color\": \"Undersea\"}, {\"c...</td>\n",
       "      <td>ounces</td>\n",
       "      <td>ounce</td>\n",
       "      <td>3.87</td>\n",
       "      <td>24.99</td>\n",
       "    </tr>\n",
       "    <tr>\n",
       "      <th>25870</th>\n",
       "      <td>[{\"name\": \"size\", \"value\": \"Large\"}, {\"name\": ...</td>\n",
       "      <td>BUNMO</td>\n",
       "      <td>[{\"name\": \"Toys &amp; Games\"}, {\"name\": \"Novelty &amp;...</td>\n",
       "      <td>NaN</td>\n",
       "      <td>USD</td>\n",
       "      <td>4</td>\n",
       "      <td>Imaginative Creative Play - Pop, Crinkle, Pull...</td>\n",
       "      <td>&lt;article&gt;\\n\\n&lt;ul&gt;&lt;li&gt; Imaginative Creative Pla...</td>\n",
       "      <td>[\"Imaginative Creative Play - Pop, Crinkle, Pu...</td>\n",
       "      <td>[{\"type\": \"gtin13\", \"value\": \"5065003267015\"}]</td>\n",
       "      <td>...</td>\n",
       "      <td>2025-01-23T21:29:43Z</td>\n",
       "      <td>Large</td>\n",
       "      <td>B07MBW6JNL</td>\n",
       "      <td>NaN</td>\n",
       "      <td>https://www.amazon.com/Pop-Tubes-Autism-Sensor...</td>\n",
       "      <td>[{\"size\": \"8\"}, {\"size\": \"30\"}, {\"size\": \"6\"},...</td>\n",
       "      <td>ounces</td>\n",
       "      <td>ounce</td>\n",
       "      <td>1.12</td>\n",
       "      <td>11.75</td>\n",
       "    </tr>\n",
       "    <tr>\n",
       "      <th>25871</th>\n",
       "      <td>[{\"name\": \"item package dimensions l x w x h\",...</td>\n",
       "      <td>Champion Sports</td>\n",
       "      <td>[{\"name\": \"Toys &amp; Games\"}, {\"name\": \"Sports &amp; ...</td>\n",
       "      <td>Red (Single)</td>\n",
       "      <td>USD</td>\n",
       "      <td>5</td>\n",
       "      <td>About this item\\n\\nSoft and bouncy nylon ball ...</td>\n",
       "      <td>&lt;article&gt;\\n\\n&lt;h2&gt;About this item&lt;/h2&gt;\\n\\n&lt;ul&gt;&lt;...</td>\n",
       "      <td>[\"Soft and bouncy nylon ball versatile enough ...</td>\n",
       "      <td>NaN</td>\n",
       "      <td>...</td>\n",
       "      <td>2025-01-23T21:29:44Z</td>\n",
       "      <td>5\" diameter</td>\n",
       "      <td>B003WYZ8DA</td>\n",
       "      <td>5\" Diameter</td>\n",
       "      <td>https://www.amazon.com/Champion-Sports-Playgro...</td>\n",
       "      <td>[{\"size\": \"5\\\" diameter\"}, {\"size\": \"7\\\" diame...</td>\n",
       "      <td>NaN</td>\n",
       "      <td>NaN</td>\n",
       "      <td>0.16</td>\n",
       "      <td>23.79</td>\n",
       "    </tr>\n",
       "    <tr>\n",
       "      <th>25872</th>\n",
       "      <td>[{\"name\": \"product dimensions\", \"value\": \"7 x ...</td>\n",
       "      <td>LiKee</td>\n",
       "      <td>[{\"name\": \"Toys &amp; Games\"}, {\"name\": \"Novelty &amp;...</td>\n",
       "      <td>NaN</td>\n",
       "      <td>USD</td>\n",
       "      <td>4</td>\n",
       "      <td>Keep Baby Occupied for Hours: It’s hard to kee...</td>\n",
       "      <td>&lt;article&gt;\\n\\n&lt;ul&gt;&lt;li&gt; Keep Baby Occupied for H...</td>\n",
       "      <td>[\"Keep Baby Occupied for Hours: It\\u2019s hard...</td>\n",
       "      <td>NaN</td>\n",
       "      <td>...</td>\n",
       "      <td>2025-01-23T21:29:44Z</td>\n",
       "      <td>7 x 7.5 x 0.6 inches</td>\n",
       "      <td>B093GZ2PKK</td>\n",
       "      <td>NaN</td>\n",
       "      <td>https://www.amazon.com/LiKee-Simple-Dimple-Fid...</td>\n",
       "      <td>NaN</td>\n",
       "      <td>ounces</td>\n",
       "      <td>ounce</td>\n",
       "      <td>4.60</td>\n",
       "      <td>9.98</td>\n",
       "    </tr>\n",
       "    <tr>\n",
       "      <th>25873</th>\n",
       "      <td>[{\"name\": \"brand\", \"value\": \"Champion Sports\"}...</td>\n",
       "      <td>Champion Sports</td>\n",
       "      <td>[{\"name\": \"Toys &amp; Games\"}, {\"name\": \"Sports &amp; ...</td>\n",
       "      <td>Multicolor</td>\n",
       "      <td>USD</td>\n",
       "      <td>5</td>\n",
       "      <td>About this item\\n\\nINDOORS OR OUTDOORS - 6 col...</td>\n",
       "      <td>&lt;article&gt;\\n\\n&lt;h2&gt;About this item&lt;/h2&gt;\\n\\n&lt;ul&gt;&lt;...</td>\n",
       "      <td>[\"INDOORS OR OUTDOORS - 6 colorful dodgeballs ...</td>\n",
       "      <td>[{\"type\": \"upc\", \"value\": \"710858031209\"}]</td>\n",
       "      <td>...</td>\n",
       "      <td>2025-01-23T21:29:44Z</td>\n",
       "      <td>6\"D</td>\n",
       "      <td>B07BG7VMY4</td>\n",
       "      <td>6\" Set of 6</td>\n",
       "      <td>https://www.amazon.com/Champion-Sports-Rhino-B...</td>\n",
       "      <td>NaN</td>\n",
       "      <td>NaN</td>\n",
       "      <td>NaN</td>\n",
       "      <td>0.82</td>\n",
       "      <td>49.99</td>\n",
       "    </tr>\n",
       "  </tbody>\n",
       "</table>\n",
       "<p>25874 rows × 29 columns</p>\n",
       "</div>"
      ],
      "text/plain": [
       "                                    additionalProperties        brandName  \\\n",
       "0      [{\"name\": \"mpaa rating\", \"value\": \"PG (Parenta...              NaN   \n",
       "1      [{\"name\": \"product dimensions\", \"value\": \"22 x...    Amazon Basics   \n",
       "2      [{\"name\": \"brand\", \"value\": \"Alpha Grillers\"},...   Alpha Grillers   \n",
       "3      [{\"name\": \"asin\", \"value\": \"B0CW1FKFB9\"}, {\"na...   Rebecca Yarros   \n",
       "4      [{\"name\": \"size\", \"value\": \"Medium (Pack of 10...        MED PRIDE   \n",
       "...                                                  ...              ...   \n",
       "25869  [{\"name\": \"product dimensions\", \"value\": \"2.28...              NaN   \n",
       "25870  [{\"name\": \"size\", \"value\": \"Large\"}, {\"name\": ...            BUNMO   \n",
       "25871  [{\"name\": \"item package dimensions l x w x h\",...  Champion Sports   \n",
       "25872  [{\"name\": \"product dimensions\", \"value\": \"7 x ...            LiKee   \n",
       "25873  [{\"name\": \"brand\", \"value\": \"Champion Sports\"}...  Champion Sports   \n",
       "\n",
       "                                             breadcrumbs         color  \\\n",
       "0      [{\"name\": \"Movies & TV\"}, {\"name\": \"Featured C...           NaN   \n",
       "1      [{\"name\": \"Pet Supplies\"}, {\"name\": \"Dogs\"}, {...  Blue & White   \n",
       "2      [{\"name\": \"Home & Kitchen\"}, {\"name\": \"Kitchen...     Black/Red   \n",
       "3      [{\"name\": \"Kindle Store\"}, {\"name\": \"Kindle eB...           NaN   \n",
       "4      [{\"name\": \"Industrial & Scientific\"}, {\"name\":...     Iris Blue   \n",
       "...                                                  ...           ...   \n",
       "25869  [{\"name\": \"Toys & Games\"}, {\"name\": \"Novelty &...         Earth   \n",
       "25870  [{\"name\": \"Toys & Games\"}, {\"name\": \"Novelty &...           NaN   \n",
       "25871  [{\"name\": \"Toys & Games\"}, {\"name\": \"Sports & ...  Red (Single)   \n",
       "25872  [{\"name\": \"Toys & Games\"}, {\"name\": \"Novelty &...           NaN   \n",
       "25873  [{\"name\": \"Toys & Games\"}, {\"name\": \"Sports & ...    Multicolor   \n",
       "\n",
       "      currency  current_depth  \\\n",
       "0          USD              1   \n",
       "1          USD              1   \n",
       "2          USD              1   \n",
       "3          USD              1   \n",
       "4          USD              1   \n",
       "...        ...            ...   \n",
       "25869      USD              4   \n",
       "25870      USD              4   \n",
       "25871      USD              5   \n",
       "25872      USD              4   \n",
       "25873      USD              5   \n",
       "\n",
       "                                             description  \\\n",
       "0      Amazon Exclusive 4K UHD + BD Steelbook, Amazon...   \n",
       "1      About this item\\n\\nINCLUDES: 100 Regular-size ...   \n",
       "2      About this item\\n\\nInstant Read Food Thermomet...   \n",
       "3      Rebecca Yarros is the #1 New York Times bestse...   \n",
       "4      About this item\\n\\nNitrile\\nImported\\nThe idea...   \n",
       "...                                                  ...   \n",
       "25869  Unlike other puzzle box toys that turn out dis...   \n",
       "25870  Imaginative Creative Play - Pop, Crinkle, Pull...   \n",
       "25871  About this item\\n\\nSoft and bouncy nylon ball ...   \n",
       "25872  Keep Baby Occupied for Hours: It’s hard to kee...   \n",
       "25873  About this item\\n\\nINDOORS OR OUTDOORS - 6 col...   \n",
       "\n",
       "                                          descriptionRaw  \\\n",
       "0      <article>\\n\\n<p>Amazon Exclusive 4K UHD + BD S...   \n",
       "1      <article>\\n\\n<h2>About this item</h2>\\n\\n<ul><...   \n",
       "2      <article>\\n\\n<h2>About this item</h2>\\n\\n<ul><...   \n",
       "3      <article>\\n\\n<p>Rebecca Yarros is the #1 New Y...   \n",
       "4      <article>\\n\\n<h2>About this item</h2>\\n\\n<ul><...   \n",
       "...                                                  ...   \n",
       "25869  <article>\\n\\n<ul><li> Unlike other puzzle box ...   \n",
       "25870  <article>\\n\\n<ul><li> Imaginative Creative Pla...   \n",
       "25871  <article>\\n\\n<h2>About this item</h2>\\n\\n<ul><...   \n",
       "25872  <article>\\n\\n<ul><li> Keep Baby Occupied for H...   \n",
       "25873  <article>\\n\\n<h2>About this item</h2>\\n\\n<ul><...   \n",
       "\n",
       "                                                features  \\\n",
       "0                                                    NaN   \n",
       "1      [\"INCLUDES: 100 Regular-size standard-absorben...   \n",
       "2      [\"Instant Read Food Thermometer | Our instant ...   \n",
       "3                                                    NaN   \n",
       "4      [\"Nitrile\", \"Imported\", \"The ideal solution fo...   \n",
       "...                                                  ...   \n",
       "25869  [\"Unlike other puzzle box toys that turn out d...   \n",
       "25870  [\"Imaginative Creative Play - Pop, Crinkle, Pu...   \n",
       "25871  [\"Soft and bouncy nylon ball versatile enough ...   \n",
       "25872  [\"Keep Baby Occupied for Hours: It\\u2019s hard...   \n",
       "25873  [\"INDOORS OR OUTDOORS - 6 colorful dodgeballs ...   \n",
       "\n",
       "                                                  gtin  ...  \\\n",
       "0                                                  NaN  ...   \n",
       "1      [{\"type\": \"gtin14\", \"value\": \"00841710108361\"}]  ...   \n",
       "2      [{\"type\": \"gtin14\", \"value\": \"00889121405136\"}]  ...   \n",
       "3                                                  NaN  ...   \n",
       "4                                                  NaN  ...   \n",
       "...                                                ...  ...   \n",
       "25869                                              NaN  ...   \n",
       "25870   [{\"type\": \"gtin13\", \"value\": \"5065003267015\"}]  ...   \n",
       "25871                                              NaN  ...   \n",
       "25872                                              NaN  ...   \n",
       "25873       [{\"type\": \"upc\", \"value\": \"710858031209\"}]  ...   \n",
       "\n",
       "                scrapedDate                          size         sku  \\\n",
       "0      2025-01-23T11:03:28Z  1 x 1 x 1 inches; 2.4 ounces  B0DTQCFGX3   \n",
       "1      2025-01-23T11:03:35Z           Regular (100 Count)  B00MW8G62E   \n",
       "2      2025-01-23T11:03:38Z                           NaN  B00S93EQUK   \n",
       "3      2025-01-23T11:03:42Z                       4603 KB  B0CW1FKFB9   \n",
       "4      2025-01-23T11:03:51Z          Medium (Pack of 100)  B00GS8W3T4   \n",
       "...                     ...                           ...         ...   \n",
       "25869  2025-01-23T21:29:41Z     2.28 x 2.28 x 2.28 inches  B091M9N4FC   \n",
       "25870  2025-01-23T21:29:43Z                         Large  B07MBW6JNL   \n",
       "25871  2025-01-23T21:29:44Z                   5\" diameter  B003WYZ8DA   \n",
       "25872  2025-01-23T21:29:44Z          7 x 7.5 x 0.6 inches  B093GZ2PKK   \n",
       "25873  2025-01-23T21:29:44Z                           6\"D  B07BG7VMY4   \n",
       "\n",
       "             style                                                url  \\\n",
       "0              NaN               https://www.amazon.com/dp/B0DTQCFGX3   \n",
       "1          Regular  https://www.amazon.com/Amazon-Basics-Leak-Proo...   \n",
       "2              NaN  https://www.amazon.com/Thermometer-Cooking-BAC...   \n",
       "3              NaN  https://www.amazon.com/Onyx-Storm-Empyrean-Boo...   \n",
       "4              NaN  https://www.amazon.com/MedPride-Powder-Free-Ni...   \n",
       "...            ...                                                ...   \n",
       "25869          NaN  https://www.amazon.com/SHASHIBO-Shape-Shifting...   \n",
       "25870          NaN  https://www.amazon.com/Pop-Tubes-Autism-Sensor...   \n",
       "25871  5\" Diameter  https://www.amazon.com/Champion-Sports-Playgro...   \n",
       "25872          NaN  https://www.amazon.com/LiKee-Simple-Dimple-Fid...   \n",
       "25873  6\" Set of 6  https://www.amazon.com/Champion-Sports-Rhino-B...   \n",
       "\n",
       "                                                variants weight_rawUnit  \\\n",
       "0                                                    NaN            NaN   \n",
       "1      [{\"size\": \"Giant (40 Count)\"}, {\"size\": \"X-Lar...         Ounces   \n",
       "2                                                    NaN         ounces   \n",
       "3                                                    NaN            NaN   \n",
       "4      [{\"size\": \"Small (pack of 100)\"}, {\"size\": \"Sm...            NaN   \n",
       "...                                                  ...            ...   \n",
       "25869  [{\"color\": \"Moon\"}, {\"color\": \"Undersea\"}, {\"c...         ounces   \n",
       "25870  [{\"size\": \"8\"}, {\"size\": \"30\"}, {\"size\": \"6\"},...         ounces   \n",
       "25871  [{\"size\": \"5\\\" diameter\"}, {\"size\": \"7\\\" diame...            NaN   \n",
       "25872                                                NaN         ounces   \n",
       "25873                                                NaN            NaN   \n",
       "\n",
       "       weight_unit  weight_value  price  \n",
       "0              NaN           NaN  44.99  \n",
       "1            ounce          1.76  20.99  \n",
       "2            ounce          2.40  19.99  \n",
       "3              NaN       4603.00  29.99  \n",
       "4              NaN           NaN   9.99  \n",
       "...            ...           ...    ...  \n",
       "25869        ounce          3.87  24.99  \n",
       "25870        ounce          1.12  11.75  \n",
       "25871          NaN          0.16  23.79  \n",
       "25872        ounce          4.60   9.98  \n",
       "25873          NaN          0.82  49.99  \n",
       "\n",
       "[25874 rows x 29 columns]"
      ]
     },
     "execution_count": 5,
     "metadata": {},
     "output_type": "execute_result"
    }
   ],
   "source": [
    "# Reviso el DF a ver como están los datos\n",
    "\n",
    "df_raw"
   ]
  },
  {
   "cell_type": "code",
   "execution_count": 6,
   "id": "43ff9c95",
   "metadata": {},
   "outputs": [
    {
     "data": {
      "text/html": [
       "<div>\n",
       "<style scoped>\n",
       "    .dataframe tbody tr th:only-of-type {\n",
       "        vertical-align: middle;\n",
       "    }\n",
       "\n",
       "    .dataframe tbody tr th {\n",
       "        vertical-align: top;\n",
       "    }\n",
       "\n",
       "    .dataframe thead th {\n",
       "        text-align: right;\n",
       "    }\n",
       "</style>\n",
       "<table border=\"1\" class=\"dataframe\">\n",
       "  <thead>\n",
       "    <tr style=\"text-align: right;\">\n",
       "      <th></th>\n",
       "      <th>additionalProperties</th>\n",
       "      <th>brandName</th>\n",
       "      <th>breadcrumbs</th>\n",
       "      <th>color</th>\n",
       "      <th>currency</th>\n",
       "      <th>current_depth</th>\n",
       "      <th>description</th>\n",
       "      <th>descriptionRaw</th>\n",
       "      <th>features</th>\n",
       "      <th>gtin</th>\n",
       "      <th>...</th>\n",
       "      <th>scrapedDate</th>\n",
       "      <th>size</th>\n",
       "      <th>sku</th>\n",
       "      <th>style</th>\n",
       "      <th>url</th>\n",
       "      <th>variants</th>\n",
       "      <th>weight_rawUnit</th>\n",
       "      <th>weight_unit</th>\n",
       "      <th>weight_value</th>\n",
       "      <th>price</th>\n",
       "    </tr>\n",
       "  </thead>\n",
       "  <tbody>\n",
       "    <tr>\n",
       "      <th>0</th>\n",
       "      <td>[{\"name\": \"mpaa rating\", \"value\": \"PG (Parenta...</td>\n",
       "      <td>NaN</td>\n",
       "      <td>[{\"name\": \"Movies &amp; TV\"}, {\"name\": \"Featured C...</td>\n",
       "      <td>NaN</td>\n",
       "      <td>USD</td>\n",
       "      <td>1</td>\n",
       "      <td>Amazon Exclusive 4K UHD + BD Steelbook, Amazon...</td>\n",
       "      <td>&lt;article&gt;\\n\\n&lt;p&gt;Amazon Exclusive 4K UHD + BD S...</td>\n",
       "      <td>NaN</td>\n",
       "      <td>NaN</td>\n",
       "      <td>...</td>\n",
       "      <td>2025-01-23T11:03:28Z</td>\n",
       "      <td>1 x 1 x 1 inches; 2.4 ounces</td>\n",
       "      <td>B0DTQCFGX3</td>\n",
       "      <td>NaN</td>\n",
       "      <td>https://www.amazon.com/dp/B0DTQCFGX3</td>\n",
       "      <td>NaN</td>\n",
       "      <td>NaN</td>\n",
       "      <td>NaN</td>\n",
       "      <td>NaN</td>\n",
       "      <td>44.99</td>\n",
       "    </tr>\n",
       "    <tr>\n",
       "      <th>1</th>\n",
       "      <td>[{\"name\": \"product dimensions\", \"value\": \"22 x...</td>\n",
       "      <td>Amazon Basics</td>\n",
       "      <td>[{\"name\": \"Pet Supplies\"}, {\"name\": \"Dogs\"}, {...</td>\n",
       "      <td>Blue &amp; White</td>\n",
       "      <td>USD</td>\n",
       "      <td>1</td>\n",
       "      <td>About this item\\n\\nINCLUDES: 100 Regular-size ...</td>\n",
       "      <td>&lt;article&gt;\\n\\n&lt;h2&gt;About this item&lt;/h2&gt;\\n\\n&lt;ul&gt;&lt;...</td>\n",
       "      <td>[\"INCLUDES: 100 Regular-size standard-absorben...</td>\n",
       "      <td>[{\"type\": \"gtin14\", \"value\": \"00841710108361\"}]</td>\n",
       "      <td>...</td>\n",
       "      <td>2025-01-23T11:03:35Z</td>\n",
       "      <td>Regular (100 Count)</td>\n",
       "      <td>B00MW8G62E</td>\n",
       "      <td>Regular</td>\n",
       "      <td>https://www.amazon.com/Amazon-Basics-Leak-Proo...</td>\n",
       "      <td>[{\"size\": \"Giant (40 Count)\"}, {\"size\": \"X-Lar...</td>\n",
       "      <td>Ounces</td>\n",
       "      <td>ounce</td>\n",
       "      <td>1.76</td>\n",
       "      <td>20.99</td>\n",
       "    </tr>\n",
       "    <tr>\n",
       "      <th>2</th>\n",
       "      <td>[{\"name\": \"brand\", \"value\": \"Alpha Grillers\"},...</td>\n",
       "      <td>Alpha Grillers</td>\n",
       "      <td>[{\"name\": \"Home &amp; Kitchen\"}, {\"name\": \"Kitchen...</td>\n",
       "      <td>Black/Red</td>\n",
       "      <td>USD</td>\n",
       "      <td>1</td>\n",
       "      <td>About this item\\n\\nInstant Read Food Thermomet...</td>\n",
       "      <td>&lt;article&gt;\\n\\n&lt;h2&gt;About this item&lt;/h2&gt;\\n\\n&lt;ul&gt;&lt;...</td>\n",
       "      <td>[\"Instant Read Food Thermometer | Our instant ...</td>\n",
       "      <td>[{\"type\": \"gtin14\", \"value\": \"00889121405136\"}]</td>\n",
       "      <td>...</td>\n",
       "      <td>2025-01-23T11:03:38Z</td>\n",
       "      <td>NaN</td>\n",
       "      <td>B00S93EQUK</td>\n",
       "      <td>NaN</td>\n",
       "      <td>https://www.amazon.com/Thermometer-Cooking-BAC...</td>\n",
       "      <td>NaN</td>\n",
       "      <td>ounces</td>\n",
       "      <td>ounce</td>\n",
       "      <td>2.40</td>\n",
       "      <td>19.99</td>\n",
       "    </tr>\n",
       "    <tr>\n",
       "      <th>3</th>\n",
       "      <td>[{\"name\": \"asin\", \"value\": \"B0CW1FKFB9\"}, {\"na...</td>\n",
       "      <td>Rebecca Yarros</td>\n",
       "      <td>[{\"name\": \"Kindle Store\"}, {\"name\": \"Kindle eB...</td>\n",
       "      <td>NaN</td>\n",
       "      <td>USD</td>\n",
       "      <td>1</td>\n",
       "      <td>Rebecca Yarros is the #1 New York Times bestse...</td>\n",
       "      <td>&lt;article&gt;\\n\\n&lt;p&gt;Rebecca Yarros is the #1 New Y...</td>\n",
       "      <td>NaN</td>\n",
       "      <td>NaN</td>\n",
       "      <td>...</td>\n",
       "      <td>2025-01-23T11:03:42Z</td>\n",
       "      <td>4603 KB</td>\n",
       "      <td>B0CW1FKFB9</td>\n",
       "      <td>NaN</td>\n",
       "      <td>https://www.amazon.com/Onyx-Storm-Empyrean-Boo...</td>\n",
       "      <td>NaN</td>\n",
       "      <td>NaN</td>\n",
       "      <td>NaN</td>\n",
       "      <td>4603.00</td>\n",
       "      <td>29.99</td>\n",
       "    </tr>\n",
       "    <tr>\n",
       "      <th>4</th>\n",
       "      <td>[{\"name\": \"size\", \"value\": \"Medium (Pack of 10...</td>\n",
       "      <td>MED PRIDE</td>\n",
       "      <td>[{\"name\": \"Industrial &amp; Scientific\"}, {\"name\":...</td>\n",
       "      <td>Iris Blue</td>\n",
       "      <td>USD</td>\n",
       "      <td>1</td>\n",
       "      <td>About this item\\n\\nNitrile\\nImported\\nThe idea...</td>\n",
       "      <td>&lt;article&gt;\\n\\n&lt;h2&gt;About this item&lt;/h2&gt;\\n\\n&lt;ul&gt;&lt;...</td>\n",
       "      <td>[\"Nitrile\", \"Imported\", \"The ideal solution fo...</td>\n",
       "      <td>NaN</td>\n",
       "      <td>...</td>\n",
       "      <td>2025-01-23T11:03:51Z</td>\n",
       "      <td>Medium (Pack of 100)</td>\n",
       "      <td>B00GS8W3T4</td>\n",
       "      <td>NaN</td>\n",
       "      <td>https://www.amazon.com/MedPride-Powder-Free-Ni...</td>\n",
       "      <td>[{\"size\": \"Small (pack of 100)\"}, {\"size\": \"Sm...</td>\n",
       "      <td>NaN</td>\n",
       "      <td>NaN</td>\n",
       "      <td>NaN</td>\n",
       "      <td>9.99</td>\n",
       "    </tr>\n",
       "  </tbody>\n",
       "</table>\n",
       "<p>5 rows × 29 columns</p>\n",
       "</div>"
      ],
      "text/plain": [
       "                                additionalProperties       brandName  \\\n",
       "0  [{\"name\": \"mpaa rating\", \"value\": \"PG (Parenta...             NaN   \n",
       "1  [{\"name\": \"product dimensions\", \"value\": \"22 x...   Amazon Basics   \n",
       "2  [{\"name\": \"brand\", \"value\": \"Alpha Grillers\"},...  Alpha Grillers   \n",
       "3  [{\"name\": \"asin\", \"value\": \"B0CW1FKFB9\"}, {\"na...  Rebecca Yarros   \n",
       "4  [{\"name\": \"size\", \"value\": \"Medium (Pack of 10...       MED PRIDE   \n",
       "\n",
       "                                         breadcrumbs         color currency  \\\n",
       "0  [{\"name\": \"Movies & TV\"}, {\"name\": \"Featured C...           NaN      USD   \n",
       "1  [{\"name\": \"Pet Supplies\"}, {\"name\": \"Dogs\"}, {...  Blue & White      USD   \n",
       "2  [{\"name\": \"Home & Kitchen\"}, {\"name\": \"Kitchen...     Black/Red      USD   \n",
       "3  [{\"name\": \"Kindle Store\"}, {\"name\": \"Kindle eB...           NaN      USD   \n",
       "4  [{\"name\": \"Industrial & Scientific\"}, {\"name\":...     Iris Blue      USD   \n",
       "\n",
       "   current_depth                                        description  \\\n",
       "0              1  Amazon Exclusive 4K UHD + BD Steelbook, Amazon...   \n",
       "1              1  About this item\\n\\nINCLUDES: 100 Regular-size ...   \n",
       "2              1  About this item\\n\\nInstant Read Food Thermomet...   \n",
       "3              1  Rebecca Yarros is the #1 New York Times bestse...   \n",
       "4              1  About this item\\n\\nNitrile\\nImported\\nThe idea...   \n",
       "\n",
       "                                      descriptionRaw  \\\n",
       "0  <article>\\n\\n<p>Amazon Exclusive 4K UHD + BD S...   \n",
       "1  <article>\\n\\n<h2>About this item</h2>\\n\\n<ul><...   \n",
       "2  <article>\\n\\n<h2>About this item</h2>\\n\\n<ul><...   \n",
       "3  <article>\\n\\n<p>Rebecca Yarros is the #1 New Y...   \n",
       "4  <article>\\n\\n<h2>About this item</h2>\\n\\n<ul><...   \n",
       "\n",
       "                                            features  \\\n",
       "0                                                NaN   \n",
       "1  [\"INCLUDES: 100 Regular-size standard-absorben...   \n",
       "2  [\"Instant Read Food Thermometer | Our instant ...   \n",
       "3                                                NaN   \n",
       "4  [\"Nitrile\", \"Imported\", \"The ideal solution fo...   \n",
       "\n",
       "                                              gtin  ...           scrapedDate  \\\n",
       "0                                              NaN  ...  2025-01-23T11:03:28Z   \n",
       "1  [{\"type\": \"gtin14\", \"value\": \"00841710108361\"}]  ...  2025-01-23T11:03:35Z   \n",
       "2  [{\"type\": \"gtin14\", \"value\": \"00889121405136\"}]  ...  2025-01-23T11:03:38Z   \n",
       "3                                              NaN  ...  2025-01-23T11:03:42Z   \n",
       "4                                              NaN  ...  2025-01-23T11:03:51Z   \n",
       "\n",
       "                           size         sku    style  \\\n",
       "0  1 x 1 x 1 inches; 2.4 ounces  B0DTQCFGX3      NaN   \n",
       "1           Regular (100 Count)  B00MW8G62E  Regular   \n",
       "2                           NaN  B00S93EQUK      NaN   \n",
       "3                       4603 KB  B0CW1FKFB9      NaN   \n",
       "4          Medium (Pack of 100)  B00GS8W3T4      NaN   \n",
       "\n",
       "                                                 url  \\\n",
       "0               https://www.amazon.com/dp/B0DTQCFGX3   \n",
       "1  https://www.amazon.com/Amazon-Basics-Leak-Proo...   \n",
       "2  https://www.amazon.com/Thermometer-Cooking-BAC...   \n",
       "3  https://www.amazon.com/Onyx-Storm-Empyrean-Boo...   \n",
       "4  https://www.amazon.com/MedPride-Powder-Free-Ni...   \n",
       "\n",
       "                                            variants weight_rawUnit  \\\n",
       "0                                                NaN            NaN   \n",
       "1  [{\"size\": \"Giant (40 Count)\"}, {\"size\": \"X-Lar...         Ounces   \n",
       "2                                                NaN         ounces   \n",
       "3                                                NaN            NaN   \n",
       "4  [{\"size\": \"Small (pack of 100)\"}, {\"size\": \"Sm...            NaN   \n",
       "\n",
       "   weight_unit  weight_value  price  \n",
       "0          NaN           NaN  44.99  \n",
       "1        ounce          1.76  20.99  \n",
       "2        ounce          2.40  19.99  \n",
       "3          NaN       4603.00  29.99  \n",
       "4          NaN           NaN   9.99  \n",
       "\n",
       "[5 rows x 29 columns]"
      ]
     },
     "execution_count": 6,
     "metadata": {},
     "output_type": "execute_result"
    }
   ],
   "source": [
    "df_raw.head()"
   ]
  },
  {
   "cell_type": "code",
   "execution_count": 7,
   "id": "350687ec",
   "metadata": {},
   "outputs": [
    {
     "data": {
      "text/plain": [
       "(25874, 29)"
      ]
     },
     "execution_count": 7,
     "metadata": {},
     "output_type": "execute_result"
    }
   ],
   "source": [
    "df_raw.shape # 25874, 30"
   ]
  },
  {
   "cell_type": "code",
   "execution_count": 8,
   "id": "de300a90",
   "metadata": {},
   "outputs": [
    {
     "data": {
      "text/plain": [
       "['additionalProperties',\n",
       " 'brandName',\n",
       " 'breadcrumbs',\n",
       " 'color',\n",
       " 'currency',\n",
       " 'current_depth',\n",
       " 'description',\n",
       " 'descriptionRaw',\n",
       " 'features',\n",
       " 'gtin',\n",
       " 'imageUrls',\n",
       " 'inStock',\n",
       " 'material',\n",
       " 'mpn',\n",
       " 'name',\n",
       " 'new_path',\n",
       " 'nodeName',\n",
       " 'rating',\n",
       " 'reviewCount',\n",
       " 'scrapedDate',\n",
       " 'size',\n",
       " 'sku',\n",
       " 'style',\n",
       " 'url',\n",
       " 'variants',\n",
       " 'weight_rawUnit',\n",
       " 'weight_unit',\n",
       " 'weight_value',\n",
       " 'price']"
      ]
     },
     "execution_count": 8,
     "metadata": {},
     "output_type": "execute_result"
    }
   ],
   "source": [
    "columns = df_raw.columns.tolist()\n",
    "columns"
   ]
  },
  {
   "cell_type": "code",
   "execution_count": 9,
   "id": "8c3b2a7a",
   "metadata": {},
   "outputs": [
    {
     "name": "stdout",
     "output_type": "stream",
     "text": [
      "<class 'pandas.core.frame.DataFrame'>\n",
      "RangeIndex: 25874 entries, 0 to 25873\n",
      "Data columns (total 29 columns):\n",
      " #   Column                Non-Null Count  Dtype  \n",
      "---  ------                --------------  -----  \n",
      " 0   additionalProperties  25829 non-null  object \n",
      " 1   brandName             23864 non-null  object \n",
      " 2   breadcrumbs           25671 non-null  object \n",
      " 3   color                 11265 non-null  object \n",
      " 4   currency              25251 non-null  object \n",
      " 5   current_depth         25874 non-null  int64  \n",
      " 6   description           25868 non-null  object \n",
      " 7   descriptionRaw        25869 non-null  object \n",
      " 8   features              19213 non-null  object \n",
      " 9   gtin                  9223 non-null   object \n",
      " 10  imageUrls             25866 non-null  object \n",
      " 11  inStock               20952 non-null  object \n",
      " 12  material              10369 non-null  object \n",
      " 13  mpn                   12698 non-null  object \n",
      " 14  name                  25873 non-null  object \n",
      " 15  new_path              25874 non-null  object \n",
      " 16  nodeName              25874 non-null  object \n",
      " 17  rating                24738 non-null  float64\n",
      " 18  reviewCount           24832 non-null  float64\n",
      " 19  scrapedDate           25874 non-null  object \n",
      " 20  size                  24133 non-null  object \n",
      " 21  sku                   25871 non-null  object \n",
      " 22  style                 5987 non-null   object \n",
      " 23  url                   25706 non-null  object \n",
      " 24  variants              10159 non-null  object \n",
      " 25  weight_rawUnit        13160 non-null  object \n",
      " 26  weight_unit           13160 non-null  object \n",
      " 27  weight_value          15637 non-null  float64\n",
      " 28  price                 25251 non-null  float64\n",
      "dtypes: float64(4), int64(1), object(24)\n",
      "memory usage: 5.7+ MB\n"
     ]
    }
   ],
   "source": [
    "df_raw.info()"
   ]
  },
  {
   "cell_type": "code",
   "execution_count": 10,
   "id": "a8b1f484",
   "metadata": {},
   "outputs": [],
   "source": [
    "# Revisar y definir columnas\n",
    "\n",
    "# después de ver por encima las columnas tienen los datos un poco raros, voy a tratarlos para dejar el dataset limpio\n",
    "# guardo el dataframe en excel para poder visualizar mejor los datos y ver como retocarlos\n",
    "df_raw.to_excel(\"..\\data_sample\\learning_dataset\\df_bs.xlsx\", index=False)"
   ]
  },
  {
   "cell_type": "markdown",
   "id": "08fcd6fb",
   "metadata": {},
   "source": [
    "Estas son las columnas, dejo esto aqui para completar con lo que define cada una\n",
    "\n",
    "'additionalProperties',     caracteríticas de los productos desde un punto de vista más técnico\n",
    " 'brandName',               nombre de la marca\n",
    " 'breadcrumbs',             categorías del producto\n",
    " 'color',                   colores de producto\n",
    " 'currency',                moneda (todo está en USD)                       \n",
    " 'current_depth',           categorías internas de Amazon\n",
    " 'description',             descripción de los productos\n",
    " 'descriptionRaw',          descripción de los productos raw (formato HTML)\n",
    " 'features',                características de los productos de una forma más descriptiva\n",
    " 'gtin',                    identificador global único del producto (Global Trade Item Number)\n",
    " 'imageUrls',               url de las imágenes de los productos\n",
    " 'inStock',                 indica si está en stock pero no la cantidad (TRUE hay, FALSE si no y hay columnas sin el dato)\n",
    " 'listedPrice',             precio de cada producto\n",
    " 'material',                material del que está hecho el producto\n",
    " 'mpn',                     identificador del producto según el fabricante\n",
    " 'name',                    nombre de cada producto\n",
    " 'new_path',                indica la nueva categoría donde se encuentra el producto (categoría se refiere a donde se encuentra dentro del catálogo, si en Hogar, Accesorios, Electrodomesticos, etc...)\n",
    " 'nodeName',                indica el nombre de la categoria (lo entiendo asi, pero en el dataset no hay diferencias entre las columnas)\n",
    " 'rating',                  rating del producto (escala del 1 al 5, con saltos de 0.1)\n",
    " 'reviewCount',             número de reviews\n",
    " 'salePrice',               precio de oferta, aunque por lo que puedo ver, algunos productos solo tienen precio de oferta\n",
    " 'scrapedDate',             fecha en la que se scrapeó la información\n",
    " 'size',                    tamaño, con muchísima varización sobre la forma de reflejarlo\n",
    " 'sku',                     es un código que Amazon utiliza para identificar el producto internamente\n",
    " 'style',                   estilo del producto, tiene mucha variedad, no parece que haya categorías definidas y faltan muchos datos\n",
    " 'url',                     url de los productos\n",
    " 'variants',                son las opciones que tiene el producto (cuando te deja elegir modelo, tamaño, color, etc...)\n",
    " 'weight_rawUnit',          unidad en la que va el peso (esta y la siguiente son en esencia lo mismo)\n",
    " 'weight_unit',             unidad en la que va el peso (esta y la anterior son en esencia lo mismo)\n",
    " 'weight_value'             peso del producto\n",
    "\n",
    " 'additionalProperties', 'color', 'currency', 'current_depth', 'description', 'descriptionRaw', 'features', 'gtin', 'imageUrls', 'inStock', 'mpn', 'nodeName', 'scrapedDate', 'size', 'sku', 'style', 'url','weight_rawUnit'\n",
    "\n",
    " 'new_path' (modificar, generalizar), 'listedPrice' y 'salePrice' (combinar), variants' (generalizar, ver si tiene), 'weight_unit', 'weight_value'"
   ]
  },
  {
   "cell_type": "code",
   "execution_count": 11,
   "id": "188281aa",
   "metadata": {},
   "outputs": [
    {
     "name": "stdout",
     "output_type": "stream",
     "text": [
      "current_depth\n",
      "5     8494\n",
      "4     7260\n",
      "6     4314\n",
      "3     2206\n",
      "7     1728\n",
      "8      890\n",
      "9      395\n",
      "2      311\n",
      "10     239\n",
      "1       37\n",
      "Name: count, dtype: int64\n",
      "<class 'pandas.core.series.Series'>\n",
      "RangeIndex: 25874 entries, 0 to 25873\n",
      "Series name: current_depth\n",
      "Non-Null Count  Dtype\n",
      "--------------  -----\n",
      "25874 non-null  int64\n",
      "dtypes: int64(1)\n",
      "memory usage: 202.3 KB\n",
      "(25874, 29)\n"
     ]
    },
    {
     "data": {
      "text/plain": [
       "'\\nRAZONAMIENTO PARA CURRENT_DEPTH\\n------------------------------------------------------------------------------------------------------------------------\\nSegun lo que pude encontrar, debería indicar 1 de 2 cosas, o una escala de categorías de Amazon,\\no bien el número de clicks necesarios para llegar al producto (clicks a enlaces). Voy a contemplar esta columna como una escala de categorías de Amazon, si fuera el número de clicks\\nse me hace extraño que sea una escala definida del 1 al 10 si estuviera contando con cuantos clicks llega la gente, 10 me parecen bastantes clicks que hacer antes\\nde llegar al producto y si lo son, ¿por qué no contar los que fueran 11 o más? Entiendo que podría ser que solo sea relevante medir hasta 10, pero entonces se me hace raro\\nque no haya ningun producto que no tenga este dato, alguno que fueran mas de 10 clicks y que no estuviera clasificado, pero al no tener nulos la columna (indica que todos los productos\\ntienen una categoría) y teniendo en cuenta el hecho de que esto es una lista de productos más vendidos, no encuentro el sentido a reflejar los clicks, no parece que sea una media al ser \\nuna escala de enteros ordenados y me resulta muy extraño que un producto que de media tardas en encontrar 5/6+ clicks esté dentro de los mas vendidos, debería encontrarse más fácil.\\n'"
      ]
     },
     "execution_count": 11,
     "metadata": {},
     "output_type": "execute_result"
    }
   ],
   "source": [
    "# comprobaciones para revisar columnas que no entiendo qué son con un vistazo a los resultados\n",
    "# current_depth\n",
    "# compruebo cuanto hay de cada categoria porque no termino de entender qué indica esta columna\n",
    "values = df_raw['current_depth'].value_counts()\n",
    "print(values)\n",
    "\n",
    "nulls = df_raw['current_depth'].info()\n",
    "print(df_raw.shape)\n",
    "'''\n",
    "current_depth\n",
    "5     8494\n",
    "4     7260\n",
    "6     4314\n",
    "3     2206\n",
    "7     1728\n",
    "8      890\n",
    "9      395\n",
    "2      311\n",
    "10     239\n",
    "1       37\n",
    "\n",
    "Name: count, dtype: int64\n",
    "<class 'pandas.core.series.Series'>\n",
    "RangeIndex: 25874 entries, 0 to 25873\n",
    "Series name: current_depth\n",
    "Non-Null Count  Dtype\n",
    "--------------  -----\n",
    "25874 non-null  int64\n",
    "dtypes: int64(1)\n",
    "memory usage: 202.3 KB\n",
    "\n",
    "\n",
    "(25874, 30)\n",
    "\n",
    "'''\n",
    "\n",
    "'''\n",
    "RAZONAMIENTO PARA CURRENT_DEPTH\n",
    "------------------------------------------------------------------------------------------------------------------------\n",
    "Segun lo que pude encontrar, debería indicar 1 de 2 cosas, o una escala de categorías de Amazon,\n",
    "o bien el número de clicks necesarios para llegar al producto (clicks a enlaces). Voy a contemplar esta columna como una escala de categorías de Amazon, si fuera el número de clicks\n",
    "se me hace extraño que sea una escala definida del 1 al 10 si estuviera contando con cuantos clicks llega la gente, 10 me parecen bastantes clicks que hacer antes\n",
    "de llegar al producto y si lo son, ¿por qué no contar los que fueran 11 o más? Entiendo que podría ser que solo sea relevante medir hasta 10, pero entonces se me hace raro\n",
    "que no haya ningun producto que no tenga este dato, alguno que fueran mas de 10 clicks y que no estuviera clasificado, pero al no tener nulos la columna (indica que todos los productos\n",
    "tienen una categoría) y teniendo en cuenta el hecho de que esto es una lista de productos más vendidos, no encuentro el sentido a reflejar los clicks, no parece que sea una media al ser \n",
    "una escala de enteros ordenados y me resulta muy extraño que un producto que de media tardas en encontrar 5/6+ clicks esté dentro de los mas vendidos, debería encontrarse más fácil.\n",
    "''' "
   ]
  },
  {
   "cell_type": "code",
   "execution_count": 12,
   "id": "bc041235",
   "metadata": {},
   "outputs": [
    {
     "data": {
      "text/plain": [
       "True    25874\n",
       "Name: count, dtype: int64"
      ]
     },
     "execution_count": 12,
     "metadata": {},
     "output_type": "execute_result"
    }
   ],
   "source": [
    "#new_path, nodeName\n",
    "comparacion = df_raw['new_path'] == df_raw['nodeName']\n",
    "comparacion.value_counts()\n",
    "\n",
    "# queria comprobar si ambas columnas eran iguales"
   ]
  },
  {
   "cell_type": "code",
   "execution_count": 13,
   "id": "eebff0fe",
   "metadata": {},
   "outputs": [
    {
     "data": {
      "text/plain": [
       "False    25873\n",
       "True         1\n",
       "Name: count, dtype: int64"
      ]
     },
     "execution_count": 13,
     "metadata": {},
     "output_type": "execute_result"
    }
   ],
   "source": [
    "#weight_rawUnit, weight_unit\n",
    "comparacion = df_raw['weight_rawUnit'] == df_raw['weight_unit']\n",
    "comparacion.value_counts()\n",
    "\n",
    "# visualmente parecian iguales, pero después de comprobarlo veo que no, la diferencia es que en weigh_rawUnit aparecen en plural"
   ]
  },
  {
   "cell_type": "code",
   "execution_count": 14,
   "id": "defe48de",
   "metadata": {},
   "outputs": [],
   "source": [
    "''' analizo las columnas 1 a 1, saca la información del info un poco mas legible para mi, cuenta los valores unicos sin nulos y lo guarda\n",
    "en un archivo para revisarlo mas facilmente '''\n",
    "\n",
    "with open(\"../data_sample/learning_dataset/col_info.txt\", \"w\", encoding=\"utf-8\") as f:\n",
    "    for col in columns:\n",
    "        f.write(f'COLUMNA: {col.upper()}({col})')\n",
    "        f.write('\\n-------------------------------------------------------------------------------')\n",
    "        f.write(f'\\ndtype: {df_raw[col].dtype}\\nnulls: {df_raw[col].isnull().sum()}\\nvalores unicos: {df_raw[col].value_counts(dropna=True).sum()}')\n",
    "        f.write('\\n\\n===============================================================================\\n\\n')"
   ]
  },
  {
   "cell_type": "markdown",
   "id": "95680a4a",
   "metadata": {},
   "source": [
    "# 3. Dividir Train y Test"
   ]
  },
  {
   "cell_type": "code",
   "execution_count": 15,
   "id": "0e59d62c",
   "metadata": {},
   "outputs": [],
   "source": [
    "# Antes de dividir train y test, como el dataset tiene 2 columnas de precios y yo quiero definir una como target, voy a tratarlas para convertirlas en una nueva y usarla como target.\n",
    "# Las columnas con precios son listedPrice (precio normal) y salePrice (precio de oferta).\n",
    "# Quiero como target listedPrice. Como la columna contiene nulos, voy a unirla con salePrice solo para intentar cubrir alguno de esos nulos. Interpreto que donde no hay listedPrice es porque son productos\n",
    "#   que entraron en los más vendidos vendiendo solo a través de ofertas, esto creo que convierte al precio de oferta en el precio real del producto y se puede pasar directamente a listedPrice.\n",
    "\n",
    "# Aprovecho y elimino las filas con nulos en price ya que si no tengo el precio con esas columnas no puedo hacer nada.\n",
    "df_raw = df_raw.dropna(subset = ['price'])"
   ]
  },
  {
   "cell_type": "code",
   "execution_count": 16,
   "id": "844967f1",
   "metadata": {},
   "outputs": [
    {
     "data": {
      "text/plain": [
       "Series([], Name: count, dtype: int64)"
      ]
     },
     "execution_count": 16,
     "metadata": {},
     "output_type": "execute_result"
    }
   ],
   "source": [
    "# reviso que no haya 0s\n",
    "df_raw['price'].where(df_raw['price'] <= 0).value_counts() # no hay 0s"
   ]
  },
  {
   "cell_type": "code",
   "execution_count": 17,
   "id": "c6dcb854",
   "metadata": {},
   "outputs": [],
   "source": [
    "# Hago el split de train y test, dejando un 30% para test\n",
    "\n",
    "X_train, X_test, y_train, y_test = train_test_split(df_raw.drop('price', axis=1),\n",
    "                                                    df_raw['price'],\n",
    "                                                    test_size=0.3,\n",
    "                                                    random_state=40)"
   ]
  },
  {
   "cell_type": "code",
   "execution_count": 18,
   "id": "adaee778",
   "metadata": {},
   "outputs": [
    {
     "name": "stdout",
     "output_type": "stream",
     "text": [
      "(17675, 28)\n",
      "(17675,)\n"
     ]
    }
   ],
   "source": [
    "shapeX = X_train.shape\n",
    "shapeY = y_train.shape\n",
    "\n",
    "print(shapeX)\n",
    "print(shapeY)"
   ]
  },
  {
   "cell_type": "code",
   "execution_count": 19,
   "id": "a05812ca",
   "metadata": {},
   "outputs": [
    {
     "data": {
      "text/plain": [
       "<Axes: xlabel='price', ylabel='Density'>"
      ]
     },
     "execution_count": 19,
     "metadata": {},
     "output_type": "execute_result"
    },
    {
     "data": {
      "image/png": "[encoded data removed]",
      "text/plain": [
       "<Figure size 640x480 with 1 Axes>"
      ]
     },
     "metadata": {},
     "output_type": "display_data"
    }
   ],
   "source": [
    "# distribucion de target\n",
    "sns.kdeplot(y_train)"
   ]
  },
  {
   "cell_type": "code",
   "execution_count": 20,
   "id": "7e00e022",
   "metadata": {},
   "outputs": [
    {
     "data": {
      "text/plain": [
       "Text(0.5, 1.0, 'power2')"
      ]
     },
     "execution_count": 20,
     "metadata": {},
     "output_type": "execute_result"
    },
    {
     "data": {
      "image/png": "[encoded data removed]",
      "text/plain": [
       "<Figure size 1600x400 with 4 Axes>"
      ]
     },
     "metadata": {},
     "output_type": "display_data"
    }
   ],
   "source": [
    "# reviso transformaciones\n",
    "\n",
    "fig, axes = plt.subplots(1, 4, figsize=(16, 4))\n",
    "\n",
    "sns.histplot(y_train, bins=50, ax=axes[0]).set_title(\"original\")\n",
    "sns.histplot(np.log(y_train), bins=50, ax=axes[1]).set_title(\"log\")\n",
    "sns.histplot(stats.boxcox(y_train)[0], bins=50, ax=axes[2]).set_title(\"boxcox\")\n",
    "sns.histplot(np.power(y_train, 2), bins=50, ax=axes[3]).set_title(\"power2\")"
   ]
  },
  {
   "cell_type": "code",
   "execution_count": 21,
   "id": "c40953d6",
   "metadata": {},
   "outputs": [
    {
     "name": "stdout",
     "output_type": "stream",
     "text": [
      "\n",
      "ORIG\n",
      " skew = 65.59604393088034\n",
      " kurt = 6042.232834749758\n",
      " Shapiro p = 1.7160891129117248e-90\n",
      "\n",
      "LOG\n",
      " skew = 0.8112556634746558\n",
      " kurt = 2.38618039433054\n",
      " Shapiro p = 4.758039073474389e-38\n",
      "\n",
      "BOXCOX\n",
      " skew = -0.06444516558641568\n",
      " kurt = 3.33985956091532\n",
      " Shapiro p = 2.5346863592555346e-33\n"
     ]
    }
   ],
   "source": [
    "log_y = np.log1p(y_train)          # log(1 + y) si hay ceros\n",
    "boxcox_y, lam = stats.boxcox(y_train)  # y debe ser > 0\n",
    "\n",
    "\n",
    "for name, values in {'orig':y_train, 'log':log_y, 'boxcox':boxcox_y}.items():\n",
    "    sample = values if len(values) <= 5000 else np.random.choice(values, 4999, replace=False) # limito a 5000 muestras para evitar warning de saphiro\n",
    "    print(f'\\n{name.upper()}')\n",
    "    print(' skew =', stats.skew(values))\n",
    "    print(' kurt =', stats.kurtosis(values, fisher=True))\n",
    "    print(' Shapiro p =', stats.shapiro(sample).pvalue)"
   ]
  },
  {
   "cell_type": "code",
   "execution_count": 22,
   "id": "a4d4e001",
   "metadata": {},
   "outputs": [
    {
     "name": "stdout",
     "output_type": "stream",
     "text": [
      "lambda usado para transformar despues: -0.06186567113028077\n"
     ]
    }
   ],
   "source": [
    "# Aplico la transformacion y guardo el lambda\n",
    "y_train_boxcox, mi_lambda = stats.boxcox(y_train)\n",
    "\n",
    "print(f'lambda usado para transformar despues: {mi_lambda}') # -0.06186567113028077"
   ]
  },
  {
   "cell_type": "code",
   "execution_count": 23,
   "id": "f72073ea",
   "metadata": {},
   "outputs": [],
   "source": [
    "# aplico la transformacion a test\n",
    "y_test_boxcox = stats.boxcox(y_test, mi_lambda)"
   ]
  },
  {
   "cell_type": "code",
   "execution_count": 24,
   "id": "e877274f",
   "metadata": {},
   "outputs": [
    {
     "data": {
      "text/plain": [
       "array([3.14345841, 3.06584195, 3.27785279, ..., 1.95014164, 2.14523249,\n",
       "       2.14523249], shape=(17675,))"
      ]
     },
     "execution_count": 24,
     "metadata": {},
     "output_type": "execute_result"
    }
   ],
   "source": [
    "y_train_boxcox"
   ]
  },
  {
   "cell_type": "code",
   "execution_count": 25,
   "id": "4fc4875d",
   "metadata": {},
   "outputs": [],
   "source": [
    "y_train = y_train_boxcox\n",
    "y_test = y_test_boxcox"
   ]
  },
  {
   "cell_type": "code",
   "execution_count": 26,
   "id": "9621be71",
   "metadata": {},
   "outputs": [
    {
     "data": {
      "text/plain": [
       "array([3.14345841, 3.06584195, 3.27785279, ..., 1.95014164, 2.14523249,\n",
       "       2.14523249], shape=(17675,))"
      ]
     },
     "execution_count": 26,
     "metadata": {},
     "output_type": "execute_result"
    }
   ],
   "source": [
    "y_train"
   ]
  },
  {
   "cell_type": "code",
   "execution_count": 27,
   "id": "367af048",
   "metadata": {},
   "outputs": [
    {
     "name": "stdout",
     "output_type": "stream",
     "text": [
      "(17675, 28)\n",
      "(17675,)\n"
     ]
    }
   ],
   "source": [
    "shapeX = X_train.shape\n",
    "shapeY = y_train.shape\n",
    "\n",
    "print(shapeX)\n",
    "print(shapeY)"
   ]
  },
  {
   "cell_type": "markdown",
   "id": "f5d9e981",
   "metadata": {},
   "source": [
    "# 6. Feature Reduction Preliminar"
   ]
  },
  {
   "cell_type": "code",
   "execution_count": 28,
   "id": "54107fab",
   "metadata": {},
   "outputs": [],
   "source": [
    "drop_columns = ['additionalProperties', 'color', 'features', 'size', 'style', 'weight_unit', 'weight_value', 'material', 'currency', 'current_depth', 'gtin', 'mpn', 'scrapedDate', 'sku', 'url',\n",
    "                'description', 'descriptionRaw', 'imageUrls', 'inStock', 'nodeName', 'weight_rawUnit', 'breadcrumbs', 'name']\n",
    "\n",
    "\n",
    "X_train.drop(columns=drop_columns, inplace=True)\n",
    "X_test.drop(columns=drop_columns, inplace=True)"
   ]
  },
  {
   "cell_type": "code",
   "execution_count": 29,
   "id": "06cd7956",
   "metadata": {},
   "outputs": [
    {
     "name": "stdout",
     "output_type": "stream",
     "text": [
      "(17675, 5)\n",
      "(17675,)\n"
     ]
    }
   ],
   "source": [
    "shapeX = X_train.shape\n",
    "shapeY = y_train.shape\n",
    "\n",
    "print(shapeX)\n",
    "print(shapeY)"
   ]
  },
  {
   "cell_type": "code",
   "execution_count": 30,
   "id": "bd3e42f3",
   "metadata": {},
   "outputs": [
    {
     "data": {
      "text/plain": [
       "Index(['brandName', 'new_path', 'rating', 'reviewCount', 'variants'], dtype='object')"
      ]
     },
     "execution_count": 30,
     "metadata": {},
     "output_type": "execute_result"
    }
   ],
   "source": [
    "X_train.columns"
   ]
  },
  {
   "cell_type": "code",
   "execution_count": 31,
   "id": "6aa90cb9",
   "metadata": {},
   "outputs": [
    {
     "data": {
      "text/plain": [
       "Index(['brandName', 'new_path', 'rating', 'reviewCount', 'variants'], dtype='object')"
      ]
     },
     "execution_count": 31,
     "metadata": {},
     "output_type": "execute_result"
    }
   ],
   "source": [
    "X_test.columns"
   ]
  },
  {
   "cell_type": "code",
   "execution_count": 32,
   "id": "3256b707",
   "metadata": {},
   "outputs": [
    {
     "name": "stdout",
     "output_type": "stream",
     "text": [
      "(17675, 5)\n",
      "(17675,)\n"
     ]
    }
   ],
   "source": [
    "shapeX = X_train.shape\n",
    "shapeY = y_train.shape\n",
    "\n",
    "print(shapeX)\n",
    "print(shapeY)"
   ]
  },
  {
   "cell_type": "code",
   "execution_count": 33,
   "id": "408573a4",
   "metadata": {},
   "outputs": [
    {
     "data": {
      "text/plain": [
       "False"
      ]
     },
     "execution_count": 33,
     "metadata": {},
     "output_type": "execute_result"
    }
   ],
   "source": [
    "isinstance(y_train, pd.Series) "
   ]
  },
  {
   "cell_type": "markdown",
   "id": "753ea406",
   "metadata": {},
   "source": [
    "# 7. Feature Engineering"
   ]
  },
  {
   "cell_type": "code",
   "execution_count": 34,
   "id": "3105d640",
   "metadata": {},
   "outputs": [],
   "source": [
    "X_train['brand'] = X_train['brandName']\n",
    "X_test['brand'] = X_test['brandName']\n",
    "\n",
    "# Elimina 'Brand:' de algunas de las marcas\n",
    "X_train['brand'] = X_train['brandName'].str.replace(r'(?i)^.*brand:\\s*', '', regex=True).str.strip()\n",
    "X_test['brand'] = X_test['brandName'].str.replace(r'(?i)^.*brand:\\s*', '', regex=True).str.strip()\n",
    "\n",
    "# Algunos valores son números, por lo que elimino los números\n",
    "# Hago una máscara para ver cuáles son numéricos\n",
    "mask_numeric = pd.to_numeric(X_train['brand'], errors='coerce').notna()\n",
    "\n",
    "# Convierto a series y_train para poder tener un indice con el que borrar las mismas filas de X en Y\n",
    "y_train = pd.Series(y_train, index=X_train.index)\n",
    "index_mask = X_train[mask_numeric].index # guardo la máscara en una variable para que no haya problemas cuando dropee de Y por haber dropeado antes en X\n",
    "\n",
    "# Elimino las filas con numéricos\n",
    "X_train.drop(index=index_mask, inplace=True)\n",
    "y_train.drop(index=index_mask, inplace=True)"
   ]
  },
  {
   "cell_type": "code",
   "execution_count": 35,
   "id": "1956e785",
   "metadata": {},
   "outputs": [
    {
     "name": "stdout",
     "output_type": "stream",
     "text": [
      "(17646, 6)\n",
      "(17646,)\n"
     ]
    }
   ],
   "source": [
    "shapeX = X_train.shape\n",
    "shapeY = y_train.shape\n",
    "\n",
    "print(shapeX)\n",
    "print(shapeY)"
   ]
  },
  {
   "cell_type": "code",
   "execution_count": 36,
   "id": "b253b50e",
   "metadata": {},
   "outputs": [],
   "source": [
    "# Quiero hacer agrupaciones de marcas para tener menos categorias y poder utilizar la columna, hay varios de Amazon que voy a agrupar en una sola categoria\n",
    "X_train['brand'] = X_train['brand'].str.lower() # lo paso a minusculas para evitar diferencias Aa\n",
    "X_test['brand'] = X_test['brand'].str.lower() # lo paso a minusculas para evitar diferencias Aa\n",
    "\n",
    "X_train['brand'] = X_train['brand'].str.replace(r'.*amazon.*', 'Amazon', regex = True)\n",
    "X_test['brand'] = X_test['brand'].str.replace(r'.*amazon.*', 'Amazon', regex = True)\n"
   ]
  },
  {
   "cell_type": "code",
   "execution_count": 37,
   "id": "c25ca5c7",
   "metadata": {},
   "outputs": [
    {
     "name": "stdout",
     "output_type": "stream",
     "text": [
      "(17646, 6)\n",
      "(17646,)\n"
     ]
    }
   ],
   "source": [
    "shapeX = X_train.shape\n",
    "shapeY = y_train.shape\n",
    "\n",
    "print(shapeX)\n",
    "print(shapeY)"
   ]
  },
  {
   "cell_type": "code",
   "execution_count": 38,
   "id": "85bfb7ce",
   "metadata": {},
   "outputs": [],
   "source": [
    "# Hago una copia para hacer pruebas mas cómodo\n",
    "df_pruebas_train = X_train.copy()\n",
    "\n",
    "valcount = df_pruebas_train.brand.value_counts()\n",
    "\n",
    "top99 = valcount.head(99).index.to_list()\n",
    "\n",
    "df_pruebas_train['brand'] = df_pruebas_train['brand'].where(df_pruebas_train['brand'].isin(top99), other = 'Other')\n",
    "\n"
   ]
  },
  {
   "cell_type": "code",
   "execution_count": 39,
   "id": "b69c8410",
   "metadata": {},
   "outputs": [
    {
     "data": {
      "text/plain": [
       "brand\n",
       "Other             15481\n",
       ".us                 782\n",
       "Amazon              168\n",
       "audible logo        122\n",
       "generic              99\n",
       "                  ...  \n",
       "d'addario             6\n",
       "bosch                 6\n",
       "evil energy           6\n",
       "bob's red mill        6\n",
       "wilson                6\n",
       "Name: count, Length: 100, dtype: int64"
      ]
     },
     "execution_count": 39,
     "metadata": {},
     "output_type": "execute_result"
    }
   ],
   "source": [
    "valcount = df_pruebas_train.brand.value_counts()\n",
    "valcount"
   ]
  },
  {
   "cell_type": "code",
   "execution_count": 40,
   "id": "f4cff6c5",
   "metadata": {},
   "outputs": [
    {
     "data": {
      "text/plain": [
       "(17646,)"
      ]
     },
     "execution_count": 40,
     "metadata": {},
     "output_type": "execute_result"
    }
   ],
   "source": [
    "df_pruebas_train.brand.shape"
   ]
  },
  {
   "cell_type": "code",
   "execution_count": 41,
   "id": "0d63ab03",
   "metadata": {},
   "outputs": [],
   "source": [
    "# parece que otros es la mayoria del data set, voy a ver si puedo dividirlo mas\n",
    "# para el volumen de datos que es, aunque la visualización va a ser compleja, creo que puedo dejarlo sobre 100 categorias\n",
    "# ahora mismo ya tengo 100, teniendo 15482 marcas en otros de 17647, voy a ver si dividiendo Otros en 40 categorias consigo dividir mejor los datos\n",
    "# primero vuelvo a hacer lo de antes para ver cuantos datos tendria que dividir entre las 40 categorias\n",
    "df_pruebas_train = X_train.copy()\n",
    "\n",
    "valcount = df_pruebas_train.brand.value_counts()\n",
    "\n",
    "top99 = valcount.head(60).index.to_list()\n",
    "\n",
    "df_pruebas_train['brand'] = df_pruebas_train['brand'].where(df_pruebas_train['brand'].isin(top99), other = 'Other')"
   ]
  },
  {
   "cell_type": "code",
   "execution_count": 42,
   "id": "7a7aa972",
   "metadata": {},
   "outputs": [
    {
     "data": {
      "text/plain": [
       "brand\n",
       "Other                   15740\n",
       ".us                       782\n",
       "Amazon                    168\n",
       "audible logo              122\n",
       "generic                    99\n",
       "                        ...  \n",
       "mr. pen                     8\n",
       "edelbrock                   8\n",
       "stanley                     8\n",
       "best choice products        7\n",
       "permatex                    7\n",
       "Name: count, Length: 61, dtype: int64"
      ]
     },
     "execution_count": 42,
     "metadata": {},
     "output_type": "execute_result"
    }
   ],
   "source": [
    "valcount = df_pruebas_train.brand.value_counts()\n",
    "valcount"
   ]
  },
  {
   "cell_type": "code",
   "execution_count": 43,
   "id": "4acd2c4c",
   "metadata": {},
   "outputs": [
    {
     "data": {
      "text/plain": [
       "(17646,)"
      ]
     },
     "execution_count": 43,
     "metadata": {},
     "output_type": "execute_result"
    }
   ],
   "source": [
    "df_pruebas_train.brand.shape"
   ]
  },
  {
   "cell_type": "code",
   "execution_count": 44,
   "id": "545041be",
   "metadata": {},
   "outputs": [
    {
     "data": {
      "text/plain": [
       "brand\n",
       ".us               782\n",
       "Amazon            168\n",
       "audible logo      122\n",
       "generic            99\n",
       "vevor              41\n",
       "                 ... \n",
       "fiskars             7\n",
       "rebecca yarros      7\n",
       "3m                  7\n",
       "permatex            7\n",
       "utopia home         7\n",
       "Name: count, Length: 85, dtype: int64"
      ]
     },
     "execution_count": 44,
     "metadata": {},
     "output_type": "execute_result"
    }
   ],
   "source": [
    "# aqui veo las 60 mas representadas, con esto veo que dividir other en 40 categorias no tiene sentido, la frencuencia con la que aparecen es la única cosa bajo las que agruparlas a priori y no puedo hacer\n",
    "# 40 argupaciones en base a eso\n",
    "'''\n",
    "df_pruebas_train = X_train.copy()\n",
    "\n",
    "valcount = df_pruebas_train.brand.value_counts()\n",
    "\n",
    "top60 = valcount.head(60)\n",
    "\n",
    "top99\n",
    "'''\n",
    "\n",
    "# Voy a probar otra forma de dividir, voy a quedarme con todas las marcas que aparezcan minimo 7 veces\n",
    "\n",
    "df_pruebas_train = X_train.copy()\n",
    "\n",
    "valcount = df_pruebas_train['brand'].value_counts()\n",
    "\n",
    "brands_7 = valcount[valcount >= 7].index # sacar las que aparecen 7 veces o mas\n",
    "\n",
    "df_pruebas_train = df_pruebas_train[df_pruebas_train['brand'].isin(brands_7)]\n",
    "\n",
    "df_pruebas_train['brand'].value_counts()\n",
    "\n"
   ]
  },
  {
   "cell_type": "code",
   "execution_count": 45,
   "id": "0fc1b017",
   "metadata": {},
   "outputs": [
    {
     "data": {
      "text/plain": [
       "np.int64(2081)"
      ]
     },
     "execution_count": 45,
     "metadata": {},
     "output_type": "execute_result"
    }
   ],
   "source": [
    "df_pruebas_train.brand.value_counts().sum()"
   ]
  },
  {
   "cell_type": "code",
   "execution_count": 46,
   "id": "6eb347c7",
   "metadata": {},
   "outputs": [
    {
     "name": "stdout",
     "output_type": "stream",
     "text": [
      "(17646, 6)\n",
      "(17646,)\n"
     ]
    }
   ],
   "source": [
    "shapeX = X_train.shape\n",
    "shapeY = y_train.shape\n",
    "\n",
    "print(shapeX)\n",
    "print(shapeY)"
   ]
  },
  {
   "cell_type": "code",
   "execution_count": null,
   "id": "b277fa9d",
   "metadata": {},
   "outputs": [],
   "source": []
  },
  {
   "cell_type": "code",
   "execution_count": 47,
   "id": "65ce8d79",
   "metadata": {},
   "outputs": [
    {
     "data": {
      "text/plain": [
       "\"\\nesto era para ver cuantas categorias tendria dividiendo por frecuencia\\n\\nbrand_freq = df_pruebas_train['brand'].value_counts()\\n\\n\\nfreq_of_freq = brand_freq.value_counts().sort_index()\\n\\nprint(freq_of_freq)\\n\\nnum_categorias = freq_of_freq.index.nunique()\\n\\nprint(num_categorias)\\n\\n\""
      ]
     },
     "execution_count": 47,
     "metadata": {},
     "output_type": "execute_result"
    }
   ],
   "source": [
    "'''\n",
    "esto era para ver cuantas categorias tendria dividiendo por frecuencia\n",
    "\n",
    "brand_freq = df_pruebas_train['brand'].value_counts()\n",
    "\n",
    "\n",
    "freq_of_freq = brand_freq.value_counts().sort_index()\n",
    "\n",
    "print(freq_of_freq)\n",
    "\n",
    "num_categorias = freq_of_freq.index.nunique()\n",
    "\n",
    "print(num_categorias)\n",
    "\n",
    "'''"
   ]
  },
  {
   "cell_type": "code",
   "execution_count": 48,
   "id": "4f799df9",
   "metadata": {},
   "outputs": [
    {
     "name": "stdout",
     "output_type": "stream",
     "text": [
      "Número de categorías de new_path: 17586\n",
      "Número de categorías de category: 35\n",
      "Número de categorías de new_path: 2068\n",
      "Número de categorías de category: 32\n"
     ]
    }
   ],
   "source": [
    "# quedan 28 categorias, pero voy a dividir cat1 (la que agrupa las marcas con frecuencia 1) segun categoria, a ver si puedo dividirlo mas, hay 38 categorias asi que aunque añada 38 divisiones mas,\n",
    "# no acabaría con demasiadas categorías\n",
    "\n",
    "# primero trato la columna new_path para usarla como cateogira\n",
    "\n",
    "# Creo una columna nueva cogiendo el valor hasta el primer >, quedandose con la primera parte y con todo si no encuentra nada\n",
    "X_train['category'] = X_train['new_path'].str.split(\">\").str[0].str.strip()\n",
    "X_test['category'] = X_test['new_path'].str.split(\">\").str[0].str.strip()  \n",
    "df_pruebas_train['category'] = df_pruebas_train['new_path'].str.split(\">\").str[0].str.strip() \n",
    "\n",
    "# Veo la diferencia de categorías\n",
    "print(f\"Número de categorías de new_path: {X_train['new_path'].nunique()}\")\n",
    "print(f\"Número de categorías de category: {X_train['category'].nunique()}\")\n",
    "\n",
    "print(f\"Número de categorías de new_path: {df_pruebas_train['new_path'].nunique()}\")\n",
    "print(f\"Número de categorías de category: {df_pruebas_train['category'].nunique()}\")"
   ]
  },
  {
   "cell_type": "code",
   "execution_count": 49,
   "id": "5d2e9cb2",
   "metadata": {},
   "outputs": [
    {
     "data": {
      "text/plain": [
       "brand\n",
       "False    2081\n",
       "Name: count, dtype: int64"
      ]
     },
     "execution_count": 49,
     "metadata": {},
     "output_type": "execute_result"
    }
   ],
   "source": [
    "df_pruebas_train['brand'].isna().value_counts()"
   ]
  },
  {
   "cell_type": "code",
   "execution_count": 50,
   "id": "1b21d7b9",
   "metadata": {},
   "outputs": [
    {
     "data": {
      "text/plain": [
       "\"\\nEsto calcula la frecuencia de cada marca y en función de eso le asigna una categoria, a mayores se hace otra vez con cat1 dependiendo de la categoria que tenga el producto\\n\\nbrand_freq = df_pruebas_train['brand'].value_counts()\\n\\ndf_pruebas_train['brand_freq'] = df_pruebas_train['brand'].map(brand_freq)\\n\\ndf_pruebas_train['brand_category'] = df_pruebas_train['brand_freq'].apply(\\n    lambda x: f'cat{int(x)}' if pd.notnull(x) else np.nan\\n)\\n\\nmask_cat1 = df_pruebas_train['brand_category'] == 'cat1'\\ndf_pruebas_train.loc[mask_cat1 & df_pruebas_train['category'].notnull(), 'brand_category'] = (\\n    'cat1 - ' + df_pruebas_train.loc[mask_cat1 & df_pruebas_train['category'].notnull(), 'category'].astype(str)\\n)\\n\\n\""
      ]
     },
     "execution_count": 50,
     "metadata": {},
     "output_type": "execute_result"
    }
   ],
   "source": [
    "'''\n",
    "Esto calcula la frecuencia de cada marca y en función de eso le asigna una categoria, a mayores se hace otra vez con cat1 dependiendo de la categoria que tenga el producto\n",
    "\n",
    "brand_freq = df_pruebas_train['brand'].value_counts()\n",
    "\n",
    "df_pruebas_train['brand_freq'] = df_pruebas_train['brand'].map(brand_freq)\n",
    "\n",
    "df_pruebas_train['brand_category'] = df_pruebas_train['brand_freq'].apply(\n",
    "    lambda x: f'cat{int(x)}' if pd.notnull(x) else np.nan\n",
    ")\n",
    "\n",
    "mask_cat1 = df_pruebas_train['brand_category'] == 'cat1'\n",
    "df_pruebas_train.loc[mask_cat1 & df_pruebas_train['category'].notnull(), 'brand_category'] = (\n",
    "    'cat1 - ' + df_pruebas_train.loc[mask_cat1 & df_pruebas_train['category'].notnull(), 'category'].astype(str)\n",
    ")\n",
    "\n",
    "'''\n"
   ]
  },
  {
   "cell_type": "code",
   "execution_count": 51,
   "id": "b554583f",
   "metadata": {},
   "outputs": [
    {
     "name": "stdout",
     "output_type": "stream",
     "text": [
      "(17646, 7)\n",
      "(17646,)\n"
     ]
    }
   ],
   "source": [
    "shapeX = X_train.shape\n",
    "shapeY = y_train.shape\n",
    "\n",
    "print(shapeX)\n",
    "print(shapeY)"
   ]
  },
  {
   "cell_type": "code",
   "execution_count": 52,
   "id": "92f61ee7",
   "metadata": {},
   "outputs": [
    {
     "data": {
      "text/plain": [
       "brand\n",
       "False    2081\n",
       "Name: count, dtype: int64"
      ]
     },
     "execution_count": 52,
     "metadata": {},
     "output_type": "execute_result"
    }
   ],
   "source": [
    "df_pruebas_train['brand'].isna().value_counts()"
   ]
  },
  {
   "cell_type": "code",
   "execution_count": 53,
   "id": "a352e47c",
   "metadata": {},
   "outputs": [
    {
     "data": {
      "text/plain": [
       "brand\n",
       ".us               782\n",
       "Amazon            168\n",
       "audible logo      122\n",
       "generic            99\n",
       "vevor              41\n",
       "                 ... \n",
       "fiskars             7\n",
       "rebecca yarros      7\n",
       "3m                  7\n",
       "permatex            7\n",
       "utopia home         7\n",
       "Name: count, Length: 85, dtype: int64"
      ]
     },
     "execution_count": 53,
     "metadata": {},
     "output_type": "execute_result"
    }
   ],
   "source": [
    "'''\n",
    "Lo de antes pero para Train en vez de en el DF de pruebas\n",
    "\n",
    "# Ahora que se que funciona lo aplico a X_train y X_test\n",
    "\n",
    "brand_freq = X_train['brand'].value_counts()\n",
    "\n",
    "\n",
    "X_train['brand_freq'] = X_train['brand'].map(brand_freq)\n",
    "\n",
    "\n",
    "X_train['brand_category'] = X_train['brand_freq'].apply(\n",
    "    lambda x: f'cat{int(x)}' if pd.notnull(x) else np.nan\n",
    ")\n",
    "\n",
    "\n",
    "mask_cat1 = X_train['brand_category'] == 'cat1'\n",
    "X_train.loc[mask_cat1 & X_train['category'].notnull(), 'brand_category'] = (\n",
    "    'cat1 - ' + X_train.loc[mask_cat1 & X_train['category'].notnull(), 'category'].astype(str)\n",
    ")\n",
    "\n",
    "'''\n",
    "\n",
    "\n",
    "valcount = X_train['brand'].value_counts()\n",
    "\n",
    "brands_7 = valcount[valcount >= 7].index # sacar las que aparecen 7 veces o mas\n",
    "\n",
    "X_train = X_train[X_train['brand'].isin(brands_7)]\n",
    "\n",
    "y_train = pd.Series(y_train, index=X_train.index)\n",
    "\n",
    "y_train = y_train.loc[X_train.index]\n",
    "\n",
    "X_train['brand'].value_counts()\n",
    "\n"
   ]
  },
  {
   "cell_type": "code",
   "execution_count": 54,
   "id": "65c902dd",
   "metadata": {},
   "outputs": [
    {
     "name": "stdout",
     "output_type": "stream",
     "text": [
      "(2081, 7)\n",
      "(2081,)\n"
     ]
    }
   ],
   "source": [
    "shapeX = X_train.shape\n",
    "shapeY = y_train.shape\n",
    "\n",
    "print(shapeX)\n",
    "print(shapeY)"
   ]
  },
  {
   "cell_type": "code",
   "execution_count": 55,
   "id": "a1f2a47c",
   "metadata": {},
   "outputs": [
    {
     "data": {
      "text/plain": [
       "brand\n",
       "False    2081\n",
       "Name: count, dtype: int64"
      ]
     },
     "execution_count": 55,
     "metadata": {},
     "output_type": "execute_result"
    }
   ],
   "source": [
    "X_train['brand'].isna().value_counts()"
   ]
  },
  {
   "cell_type": "code",
   "execution_count": 56,
   "id": "a339c24d",
   "metadata": {},
   "outputs": [],
   "source": [
    "'''\n",
    "Aplico la transformacion a test\n",
    "\n",
    "X_test['brand_freq'] = X_test['brand'].map(brand_freq)\n",
    "\n",
    "X_test['brand_category'] = X_test['brand_freq'].apply(\n",
    "    lambda x: f'cat{int(x)}' if pd.notnull(x) else np.nan\n",
    ")\n",
    "\n",
    "# 6. Subdividir cat1 también en test\n",
    "mask_cat1_test = X_test['brand_category'] == 'cat1'\n",
    "X_test.loc[mask_cat1_test & X_test['category'].notnull(), 'brand_category'] = (\n",
    "    'cat1 - ' + X_test.loc[mask_cat1_test & X_test['category'].notnull(), 'category'].astype(str)\n",
    ")\n",
    "\n",
    "'''\n",
    "\n",
    "\n",
    "mask_test = X_test['brand'].isin(brands_7)\n",
    "\n",
    "X_test = X_test[mask_test]\n",
    "\n",
    "y_test = y_test[mask_test.to_numpy()]\n"
   ]
  },
  {
   "cell_type": "code",
   "execution_count": 57,
   "id": "69263658",
   "metadata": {},
   "outputs": [
    {
     "name": "stdout",
     "output_type": "stream",
     "text": [
      "(2081, 7)\n",
      "(2081,)\n"
     ]
    }
   ],
   "source": [
    "shapeX = X_train.shape\n",
    "shapeY = y_train.shape\n",
    "\n",
    "print(shapeX)\n",
    "print(shapeY)"
   ]
  },
  {
   "cell_type": "code",
   "execution_count": 58,
   "id": "ee55ef6a",
   "metadata": {},
   "outputs": [
    {
     "data": {
      "text/plain": [
       "\"\\ncomprobacion\\n\\n# busco cuantas categorias son aun cat1, no deberia haber\\nprint((X_test['brand_category'] == 'cat1').sum())\\n\\n\""
      ]
     },
     "execution_count": 58,
     "metadata": {},
     "output_type": "execute_result"
    }
   ],
   "source": [
    "'''\n",
    "comprobacion\n",
    "\n",
    "# busco cuantas categorias son aun cat1, no deberia haber\n",
    "print((X_test['brand_category'] == 'cat1').sum())\n",
    "\n",
    "'''"
   ]
  },
  {
   "cell_type": "code",
   "execution_count": 59,
   "id": "f5425f19",
   "metadata": {},
   "outputs": [
    {
     "data": {
      "text/plain": [
       "brand\n",
       "False    722\n",
       "Name: count, dtype: int64"
      ]
     },
     "execution_count": 59,
     "metadata": {},
     "output_type": "execute_result"
    }
   ],
   "source": [
    "X_test['brand'].isna().value_counts()"
   ]
  },
  {
   "cell_type": "code",
   "execution_count": 60,
   "id": "28b4e8fd",
   "metadata": {},
   "outputs": [
    {
     "data": {
      "text/plain": [
       "'\\n\\n\\nbrands_train = set(df_pruebas_train[\\'brand\\'].dropna().unique())\\n\\nnew_brand_test = X_test[~X_test[\\'brand\\'].isin(brands_train)]\\n\\nprint(new_brand_test[\\'brand_category\\'].isna().sum())\\n\\nnan_brand_test = X_test[X_test[\\'brand\\'].isna()]\\n\\nprint(nan_brand_test[\\'brand_category\\'].isna().sum())\\n\\nnans = (\\n    new_brand_test[\\'brand_category\\'].isna().sum() +\\n    nan_brand_test[\\'brand_category\\'].isna().sum()\\n)\\n\\nactually = X_test[\\'brand_category\\'].isna().sum()\\n\\nprint(f\"esperado: {nans}  |  Real: {actually}\")\\nprint(\"coincide?:\", nans == actually)\\n'"
      ]
     },
     "execution_count": 60,
     "metadata": {},
     "output_type": "execute_result"
    }
   ],
   "source": [
    "'''\n",
    "\n",
    "\n",
    "brands_train = set(df_pruebas_train['brand'].dropna().unique())\n",
    "\n",
    "new_brand_test = X_test[~X_test['brand'].isin(brands_train)]\n",
    "\n",
    "print(new_brand_test['brand_category'].isna().sum())\n",
    "\n",
    "nan_brand_test = X_test[X_test['brand'].isna()]\n",
    "\n",
    "print(nan_brand_test['brand_category'].isna().sum())\n",
    "\n",
    "nans = (\n",
    "    new_brand_test['brand_category'].isna().sum() +\n",
    "    nan_brand_test['brand_category'].isna().sum()\n",
    ")\n",
    "\n",
    "actually = X_test['brand_category'].isna().sum()\n",
    "\n",
    "print(f\"esperado: {nans}  |  Real: {actually}\")\n",
    "print(\"coincide?:\", nans == actually)\n",
    "'''"
   ]
  },
  {
   "cell_type": "code",
   "execution_count": 61,
   "id": "b0736099",
   "metadata": {},
   "outputs": [
    {
     "name": "stdout",
     "output_type": "stream",
     "text": [
      "(2081, 7)\n",
      "(2081,)\n"
     ]
    }
   ],
   "source": [
    "shapeX = X_train.shape\n",
    "shapeY = y_train.shape\n",
    "\n",
    "print(shapeX)\n",
    "print(shapeY)"
   ]
  },
  {
   "cell_type": "code",
   "execution_count": 62,
   "id": "98a3cce4",
   "metadata": {},
   "outputs": [
    {
     "data": {
      "text/plain": [
       "(2081, 7)"
      ]
     },
     "execution_count": 62,
     "metadata": {},
     "output_type": "execute_result"
    }
   ],
   "source": [
    "X_train.shape"
   ]
  },
  {
   "cell_type": "code",
   "execution_count": 63,
   "id": "19fa7858",
   "metadata": {},
   "outputs": [
    {
     "data": {
      "text/plain": [
       "(722, 7)"
      ]
     },
     "execution_count": 63,
     "metadata": {},
     "output_type": "execute_result"
    }
   ],
   "source": [
    "X_test.shape"
   ]
  },
  {
   "cell_type": "code",
   "execution_count": 64,
   "id": "9a4622e7",
   "metadata": {},
   "outputs": [
    {
     "data": {
      "text/html": [
       "<div>\n",
       "<style scoped>\n",
       "    .dataframe tbody tr th:only-of-type {\n",
       "        vertical-align: middle;\n",
       "    }\n",
       "\n",
       "    .dataframe tbody tr th {\n",
       "        vertical-align: top;\n",
       "    }\n",
       "\n",
       "    .dataframe thead th {\n",
       "        text-align: right;\n",
       "    }\n",
       "</style>\n",
       "<table border=\"1\" class=\"dataframe\">\n",
       "  <thead>\n",
       "    <tr style=\"text-align: right;\">\n",
       "      <th></th>\n",
       "      <th>brandName</th>\n",
       "      <th>new_path</th>\n",
       "      <th>rating</th>\n",
       "      <th>reviewCount</th>\n",
       "      <th>variants</th>\n",
       "      <th>brand</th>\n",
       "      <th>category</th>\n",
       "    </tr>\n",
       "  </thead>\n",
       "  <tbody>\n",
       "    <tr>\n",
       "      <th>1646</th>\n",
       "      <td>Brand: Generic</td>\n",
       "      <td>Kitchen &amp; Dining &gt; Coffee, Tea &amp; Espresso Appl...</td>\n",
       "      <td>NaN</td>\n",
       "      <td>NaN</td>\n",
       "      <td>[{\"color\": \"Gold\"}, {\"color\": \"Multicolor\"}, {...</td>\n",
       "      <td>generic</td>\n",
       "      <td>Kitchen &amp; Dining</td>\n",
       "    </tr>\n",
       "    <tr>\n",
       "      <th>3478</th>\n",
       "      <td>Garmin</td>\n",
       "      <td>Cell Phones &amp; Accessories &gt; Accessories &gt; Item...</td>\n",
       "      <td>4.6</td>\n",
       "      <td>1431.0</td>\n",
       "      <td>NaN</td>\n",
       "      <td>garmin</td>\n",
       "      <td>Cell Phones &amp; Accessories</td>\n",
       "    </tr>\n",
       "    <tr>\n",
       "      <th>24582</th>\n",
       "      <td>Brand: Generic</td>\n",
       "      <td>Sports &amp; Outdoors &gt; Hunting &amp; Fishing &gt; Fishin...</td>\n",
       "      <td>4.3</td>\n",
       "      <td>39.0</td>\n",
       "      <td>[{\"size\": \"Medium\"}, {\"size\": \"Large\"}, {\"size...</td>\n",
       "      <td>generic</td>\n",
       "      <td>Sports &amp; Outdoors</td>\n",
       "    </tr>\n",
       "    <tr>\n",
       "      <th>24619</th>\n",
       "      <td>Brand: FOCO</td>\n",
       "      <td>Sports &amp; Outdoors &gt; Fan Shop &gt; Footwear</td>\n",
       "      <td>4.5</td>\n",
       "      <td>18065.0</td>\n",
       "      <td>[{\"color\": \"Beige\"}, {\"color\": \"Team Color\"}, ...</td>\n",
       "      <td>foco</td>\n",
       "      <td>Sports &amp; Outdoors</td>\n",
       "    </tr>\n",
       "    <tr>\n",
       "      <th>12524</th>\n",
       "      <td>Brand: Generic</td>\n",
       "      <td>Grocery &amp; Gourmet Food &gt; Dairy, Eggs &amp; Plant-B...</td>\n",
       "      <td>4.4</td>\n",
       "      <td>3.0</td>\n",
       "      <td>NaN</td>\n",
       "      <td>generic</td>\n",
       "      <td>Grocery &amp; Gourmet Food</td>\n",
       "    </tr>\n",
       "    <tr>\n",
       "      <th>...</th>\n",
       "      <td>...</td>\n",
       "      <td>...</td>\n",
       "      <td>...</td>\n",
       "      <td>...</td>\n",
       "      <td>...</td>\n",
       "      <td>...</td>\n",
       "      <td>...</td>\n",
       "    </tr>\n",
       "    <tr>\n",
       "      <th>16221</th>\n",
       "      <td>.us</td>\n",
       "      <td>Clothing, Shoes &amp; Jewelry &gt; Girls &gt; Clothing &gt;...</td>\n",
       "      <td>4.4</td>\n",
       "      <td>244.0</td>\n",
       "      <td>[{\"color\": \"Flamingo 9\"}, {\"color\": \"Flamingo-...</td>\n",
       "      <td>.us</td>\n",
       "      <td>Clothing, Shoes &amp; Jewelry</td>\n",
       "    </tr>\n",
       "    <tr>\n",
       "      <th>20791</th>\n",
       "      <td>Fel-Pro</td>\n",
       "      <td>Automotive &gt; Replacement Parts &gt; Engine Coolin...</td>\n",
       "      <td>4.7</td>\n",
       "      <td>1260.0</td>\n",
       "      <td>NaN</td>\n",
       "      <td>fel-pro</td>\n",
       "      <td>Automotive</td>\n",
       "    </tr>\n",
       "    <tr>\n",
       "      <th>2180</th>\n",
       "      <td>Mr. Pen</td>\n",
       "      <td>Office Products &gt; Education &amp; Crafts &gt; Arts &amp; ...</td>\n",
       "      <td>4.7</td>\n",
       "      <td>13319.0</td>\n",
       "      <td>[{\"color\": \"Blue Shades\"}, {\"color\": \"Green\"},...</td>\n",
       "      <td>mr. pen</td>\n",
       "      <td>Office Products</td>\n",
       "    </tr>\n",
       "    <tr>\n",
       "      <th>3700</th>\n",
       "      <td>.us</td>\n",
       "      <td>Sports &amp; Outdoors &gt; Exercise &amp; Fitness &gt; Cloth...</td>\n",
       "      <td>4.2</td>\n",
       "      <td>841.0</td>\n",
       "      <td>[{\"color\": \"Pink\"}, {\"color\": \"Pistachio\"}, {\"...</td>\n",
       "      <td>.us</td>\n",
       "      <td>Sports &amp; Outdoors</td>\n",
       "    </tr>\n",
       "    <tr>\n",
       "      <th>22345</th>\n",
       "      <td>Rick Steves</td>\n",
       "      <td>Books &gt; Travel &gt; Europe &gt; Iceland</td>\n",
       "      <td>4.7</td>\n",
       "      <td>128.0</td>\n",
       "      <td>NaN</td>\n",
       "      <td>rick steves</td>\n",
       "      <td>Books</td>\n",
       "    </tr>\n",
       "  </tbody>\n",
       "</table>\n",
       "<p>2081 rows × 7 columns</p>\n",
       "</div>"
      ],
      "text/plain": [
       "            brandName                                           new_path  \\\n",
       "1646   Brand: Generic  Kitchen & Dining > Coffee, Tea & Espresso Appl...   \n",
       "3478           Garmin  Cell Phones & Accessories > Accessories > Item...   \n",
       "24582  Brand: Generic  Sports & Outdoors > Hunting & Fishing > Fishin...   \n",
       "24619     Brand: FOCO            Sports & Outdoors > Fan Shop > Footwear   \n",
       "12524  Brand: Generic  Grocery & Gourmet Food > Dairy, Eggs & Plant-B...   \n",
       "...               ...                                                ...   \n",
       "16221             .us  Clothing, Shoes & Jewelry > Girls > Clothing >...   \n",
       "20791         Fel-Pro  Automotive > Replacement Parts > Engine Coolin...   \n",
       "2180          Mr. Pen  Office Products > Education & Crafts > Arts & ...   \n",
       "3700              .us  Sports & Outdoors > Exercise & Fitness > Cloth...   \n",
       "22345     Rick Steves                  Books > Travel > Europe > Iceland   \n",
       "\n",
       "       rating  reviewCount                                           variants  \\\n",
       "1646      NaN          NaN  [{\"color\": \"Gold\"}, {\"color\": \"Multicolor\"}, {...   \n",
       "3478      4.6       1431.0                                                NaN   \n",
       "24582     4.3         39.0  [{\"size\": \"Medium\"}, {\"size\": \"Large\"}, {\"size...   \n",
       "24619     4.5      18065.0  [{\"color\": \"Beige\"}, {\"color\": \"Team Color\"}, ...   \n",
       "12524     4.4          3.0                                                NaN   \n",
       "...       ...          ...                                                ...   \n",
       "16221     4.4        244.0  [{\"color\": \"Flamingo 9\"}, {\"color\": \"Flamingo-...   \n",
       "20791     4.7       1260.0                                                NaN   \n",
       "2180      4.7      13319.0  [{\"color\": \"Blue Shades\"}, {\"color\": \"Green\"},...   \n",
       "3700      4.2        841.0  [{\"color\": \"Pink\"}, {\"color\": \"Pistachio\"}, {\"...   \n",
       "22345     4.7        128.0                                                NaN   \n",
       "\n",
       "             brand                   category  \n",
       "1646       generic           Kitchen & Dining  \n",
       "3478        garmin  Cell Phones & Accessories  \n",
       "24582      generic          Sports & Outdoors  \n",
       "24619         foco          Sports & Outdoors  \n",
       "12524      generic     Grocery & Gourmet Food  \n",
       "...            ...                        ...  \n",
       "16221          .us  Clothing, Shoes & Jewelry  \n",
       "20791      fel-pro                 Automotive  \n",
       "2180       mr. pen            Office Products  \n",
       "3700           .us          Sports & Outdoors  \n",
       "22345  rick steves                      Books  \n",
       "\n",
       "[2081 rows x 7 columns]"
      ]
     },
     "execution_count": 64,
     "metadata": {},
     "output_type": "execute_result"
    }
   ],
   "source": [
    "X_train"
   ]
  },
  {
   "cell_type": "code",
   "execution_count": 65,
   "id": "7c5018c6",
   "metadata": {},
   "outputs": [
    {
     "data": {
      "text/html": [
       "<div>\n",
       "<style scoped>\n",
       "    .dataframe tbody tr th:only-of-type {\n",
       "        vertical-align: middle;\n",
       "    }\n",
       "\n",
       "    .dataframe tbody tr th {\n",
       "        vertical-align: top;\n",
       "    }\n",
       "\n",
       "    .dataframe thead th {\n",
       "        text-align: right;\n",
       "    }\n",
       "</style>\n",
       "<table border=\"1\" class=\"dataframe\">\n",
       "  <thead>\n",
       "    <tr style=\"text-align: right;\">\n",
       "      <th></th>\n",
       "      <th>brandName</th>\n",
       "      <th>new_path</th>\n",
       "      <th>rating</th>\n",
       "      <th>reviewCount</th>\n",
       "      <th>variants</th>\n",
       "      <th>brand</th>\n",
       "      <th>category</th>\n",
       "    </tr>\n",
       "  </thead>\n",
       "  <tbody>\n",
       "    <tr>\n",
       "      <th>19962</th>\n",
       "      <td>Brand: Standard Motor Products</td>\n",
       "      <td>Automotive &gt; Replacement Parts &gt; Switches &amp; Re...</td>\n",
       "      <td>4.2</td>\n",
       "      <td>38.0</td>\n",
       "      <td>NaN</td>\n",
       "      <td>standard motor products</td>\n",
       "      <td>Automotive</td>\n",
       "    </tr>\n",
       "    <tr>\n",
       "      <th>24679</th>\n",
       "      <td>.us</td>\n",
       "      <td>Sports &amp; Outdoors &gt; Fan Shop &gt; Clothing &gt; Jackets</td>\n",
       "      <td>4.5</td>\n",
       "      <td>619.0</td>\n",
       "      <td>[{\"color\": \"Tottenham | Navy\"}, {\"color\": \"Bar...</td>\n",
       "      <td>.us</td>\n",
       "      <td>Sports &amp; Outdoors</td>\n",
       "    </tr>\n",
       "    <tr>\n",
       "      <th>18449</th>\n",
       "      <td>.us</td>\n",
       "      <td>Clothing, Shoes &amp; Jewelry &gt; Uniforms, Work &amp; S...</td>\n",
       "      <td>4.6</td>\n",
       "      <td>579.0</td>\n",
       "      <td>[{\"color\": \"Black\"}, {\"color\": \"Navy\"}, {\"colo...</td>\n",
       "      <td>.us</td>\n",
       "      <td>Clothing, Shoes &amp; Jewelry</td>\n",
       "    </tr>\n",
       "    <tr>\n",
       "      <th>7127</th>\n",
       "      <td>3M</td>\n",
       "      <td>Industrial &amp; Scientific &gt; Professional Dental ...</td>\n",
       "      <td>4.5</td>\n",
       "      <td>1952.0</td>\n",
       "      <td>NaN</td>\n",
       "      <td>3m</td>\n",
       "      <td>Industrial &amp; Scientific</td>\n",
       "    </tr>\n",
       "    <tr>\n",
       "      <th>2417</th>\n",
       "      <td>WEN</td>\n",
       "      <td>Industrial &amp; Scientific &gt; Power &amp; Hand Tools &gt;...</td>\n",
       "      <td>4.6</td>\n",
       "      <td>6464.0</td>\n",
       "      <td>[{\"color\": \"6-inch Disc w/ Cast Iron Base\"}, {...</td>\n",
       "      <td>wen</td>\n",
       "      <td>Industrial &amp; Scientific</td>\n",
       "    </tr>\n",
       "    <tr>\n",
       "      <th>...</th>\n",
       "      <td>...</td>\n",
       "      <td>...</td>\n",
       "      <td>...</td>\n",
       "      <td>...</td>\n",
       "      <td>...</td>\n",
       "      <td>...</td>\n",
       "      <td>...</td>\n",
       "    </tr>\n",
       "    <tr>\n",
       "      <th>5271</th>\n",
       "      <td>Amazon Basics</td>\n",
       "      <td>Office Products &gt; Office Supplies &gt; Paper &gt; Ca...</td>\n",
       "      <td>4.7</td>\n",
       "      <td>9468.0</td>\n",
       "      <td>[{\"size\": \"10 x 13\"}, {\"size\": \"9 x 12\"}]</td>\n",
       "      <td>Amazon</td>\n",
       "      <td>Office Products</td>\n",
       "    </tr>\n",
       "    <tr>\n",
       "      <th>340</th>\n",
       "      <td>.us</td>\n",
       "      <td>Sports &amp; Outdoors &gt; Accessories &gt; Anti-Chafing...</td>\n",
       "      <td>4.6</td>\n",
       "      <td>128.0</td>\n",
       "      <td>[{\"color\": \"30 X\"}, {\"color\": \"50 PCS- Girls L...</td>\n",
       "      <td>.us</td>\n",
       "      <td>Sports &amp; Outdoors</td>\n",
       "    </tr>\n",
       "    <tr>\n",
       "      <th>640</th>\n",
       "      <td>Amazon Basics</td>\n",
       "      <td>Office Products &gt; Education &amp; Crafts &gt; Arts &amp; ...</td>\n",
       "      <td>4.8</td>\n",
       "      <td>27536.0</td>\n",
       "      <td>[{\"size\": \"200 - Pack\"}, {\"size\": \"500 - Pack\"...</td>\n",
       "      <td>Amazon</td>\n",
       "      <td>Office Products</td>\n",
       "    </tr>\n",
       "    <tr>\n",
       "      <th>20623</th>\n",
       "      <td>Brand: Standard Motor Products</td>\n",
       "      <td>Automotive &gt; Replacement Parts &gt; Ignition Part...</td>\n",
       "      <td>4.6</td>\n",
       "      <td>900.0</td>\n",
       "      <td>NaN</td>\n",
       "      <td>standard motor products</td>\n",
       "      <td>Automotive</td>\n",
       "    </tr>\n",
       "    <tr>\n",
       "      <th>18765</th>\n",
       "      <td>.us</td>\n",
       "      <td>Clothing, Shoes &amp; Jewelry &gt; Men &gt; Clothing &gt; U...</td>\n",
       "      <td>4.6</td>\n",
       "      <td>75575.0</td>\n",
       "      <td>[{\"color\": \"15 Pack - White\"}, {\"color\": \"216 ...</td>\n",
       "      <td>.us</td>\n",
       "      <td>Clothing, Shoes &amp; Jewelry</td>\n",
       "    </tr>\n",
       "  </tbody>\n",
       "</table>\n",
       "<p>722 rows × 7 columns</p>\n",
       "</div>"
      ],
      "text/plain": [
       "                            brandName  \\\n",
       "19962  Brand: Standard Motor Products   \n",
       "24679                             .us   \n",
       "18449                             .us   \n",
       "7127                               3M   \n",
       "2417                              WEN   \n",
       "...                               ...   \n",
       "5271                    Amazon Basics   \n",
       "340                               .us   \n",
       "640                     Amazon Basics   \n",
       "20623  Brand: Standard Motor Products   \n",
       "18765                             .us   \n",
       "\n",
       "                                                new_path  rating  reviewCount  \\\n",
       "19962  Automotive > Replacement Parts > Switches & Re...     4.2         38.0   \n",
       "24679  Sports & Outdoors > Fan Shop > Clothing > Jackets     4.5        619.0   \n",
       "18449  Clothing, Shoes & Jewelry > Uniforms, Work & S...     4.6        579.0   \n",
       "7127   Industrial & Scientific > Professional Dental ...     4.5       1952.0   \n",
       "2417   Industrial & Scientific > Power & Hand Tools >...     4.6       6464.0   \n",
       "...                                                  ...     ...          ...   \n",
       "5271   Office Products > Office Supplies > Paper > Ca...     4.7       9468.0   \n",
       "340    Sports & Outdoors > Accessories > Anti-Chafing...     4.6        128.0   \n",
       "640    Office Products > Education & Crafts > Arts & ...     4.8      27536.0   \n",
       "20623  Automotive > Replacement Parts > Ignition Part...     4.6        900.0   \n",
       "18765  Clothing, Shoes & Jewelry > Men > Clothing > U...     4.6      75575.0   \n",
       "\n",
       "                                                variants  \\\n",
       "19962                                                NaN   \n",
       "24679  [{\"color\": \"Tottenham | Navy\"}, {\"color\": \"Bar...   \n",
       "18449  [{\"color\": \"Black\"}, {\"color\": \"Navy\"}, {\"colo...   \n",
       "7127                                                 NaN   \n",
       "2417   [{\"color\": \"6-inch Disc w/ Cast Iron Base\"}, {...   \n",
       "...                                                  ...   \n",
       "5271           [{\"size\": \"10 x 13\"}, {\"size\": \"9 x 12\"}]   \n",
       "340    [{\"color\": \"30 X\"}, {\"color\": \"50 PCS- Girls L...   \n",
       "640    [{\"size\": \"200 - Pack\"}, {\"size\": \"500 - Pack\"...   \n",
       "20623                                                NaN   \n",
       "18765  [{\"color\": \"15 Pack - White\"}, {\"color\": \"216 ...   \n",
       "\n",
       "                         brand                   category  \n",
       "19962  standard motor products                 Automotive  \n",
       "24679                      .us          Sports & Outdoors  \n",
       "18449                      .us  Clothing, Shoes & Jewelry  \n",
       "7127                        3m    Industrial & Scientific  \n",
       "2417                       wen    Industrial & Scientific  \n",
       "...                        ...                        ...  \n",
       "5271                    Amazon            Office Products  \n",
       "340                        .us          Sports & Outdoors  \n",
       "640                     Amazon            Office Products  \n",
       "20623  standard motor products                 Automotive  \n",
       "18765                      .us  Clothing, Shoes & Jewelry  \n",
       "\n",
       "[722 rows x 7 columns]"
      ]
     },
     "execution_count": 65,
     "metadata": {},
     "output_type": "execute_result"
    }
   ],
   "source": [
    "X_test"
   ]
  },
  {
   "cell_type": "code",
   "execution_count": 66,
   "id": "3a667b38",
   "metadata": {},
   "outputs": [
    {
     "data": {
      "text/plain": [
       "Index(['brandName', 'new_path', 'rating', 'reviewCount', 'variants', 'brand',\n",
       "       'category'],\n",
       "      dtype='object')"
      ]
     },
     "execution_count": 66,
     "metadata": {},
     "output_type": "execute_result"
    }
   ],
   "source": [
    "X_train.columns"
   ]
  },
  {
   "cell_type": "code",
   "execution_count": 67,
   "id": "0d56f3de",
   "metadata": {},
   "outputs": [],
   "source": [
    "# tratamiento has_variants\n",
    "# Trato también la columna variants. Voy a tener en cuenta el hecho de si tienen categorías o no, dejando 1 donde tenga y 0 donde no\n",
    "\n",
    "X_train['has_variants'] = X_train['variants'].notna().astype('Int8')\n",
    "X_test['has_variants'] = X_test['variants'].notna().astype('Int8')"
   ]
  },
  {
   "cell_type": "code",
   "execution_count": 68,
   "id": "b7bf99f3",
   "metadata": {},
   "outputs": [
    {
     "name": "stdout",
     "output_type": "stream",
     "text": [
      "(2081, 8)\n",
      "(2081,)\n"
     ]
    }
   ],
   "source": [
    "shapeX = X_train.shape\n",
    "shapeY = y_train.shape\n",
    "\n",
    "print(shapeX)\n",
    "print(shapeY)"
   ]
  },
  {
   "cell_type": "markdown",
   "id": "921bbeef",
   "metadata": {},
   "source": [
    "# 8. Missings y Eliminación de Features"
   ]
  },
  {
   "cell_type": "code",
   "execution_count": 69,
   "id": "cfb4266b",
   "metadata": {},
   "outputs": [],
   "source": [
    "# Elimino columnas que ya no necesito, tampoco necesito brandName pero como quiero evitar haber quitado nans al transformar columnas, quiero eliminar las filas donde tenga nulos\n",
    "drop_columns = ['new_path', 'variants', 'brandName']\n",
    "X_train.drop(columns = drop_columns, inplace = True)\n",
    "X_test.drop(columns = drop_columns, inplace = True)\n",
    "\n"
   ]
  },
  {
   "cell_type": "code",
   "execution_count": 70,
   "id": "e355d345",
   "metadata": {},
   "outputs": [
    {
     "name": "stdout",
     "output_type": "stream",
     "text": [
      "(2081, 5)\n",
      "(2081,)\n"
     ]
    }
   ],
   "source": [
    "shapeX = X_train.shape\n",
    "shapeY = y_train.shape\n",
    "\n",
    "print(shapeX)\n",
    "print(shapeY)"
   ]
  },
  {
   "cell_type": "code",
   "execution_count": 71,
   "id": "796d7afb",
   "metadata": {},
   "outputs": [
    {
     "name": "stdout",
     "output_type": "stream",
     "text": [
      "Filas con nulos: 85\n"
     ]
    }
   ],
   "source": [
    "# Reviso cuantas filas totales hay con nulos\n",
    "total_nan_rows = X_train.isnull().any(axis=1).sum()\n",
    "print(f'Filas con nulos: {total_nan_rows}')"
   ]
  },
  {
   "cell_type": "code",
   "execution_count": 72,
   "id": "cabd2e56",
   "metadata": {},
   "outputs": [
    {
     "name": "stdout",
     "output_type": "stream",
     "text": [
      "(2081, 5)\n",
      "(2081,)\n"
     ]
    }
   ],
   "source": [
    "shapeX = X_train.shape\n",
    "shapeY = y_train.shape\n",
    "\n",
    "print(shapeX)\n",
    "print(shapeY)"
   ]
  },
  {
   "cell_type": "code",
   "execution_count": 73,
   "id": "170768a8",
   "metadata": {},
   "outputs": [],
   "source": [
    "\n",
    "# Como el total de filas con nulos no es tan grande en comparación de la muestra total, creo que puedo prescindir de ellos\n",
    "# Además, hago una máscara para eliminar las filas que vaya a eliminar de X_train, borrarlas también en y_train\n",
    "mask_index = X_train.notna().all(axis=1) # Hago una máscara para ver cuales son nulos\n",
    "X_train.drop(index=X_train.index[~mask_index], inplace=True) # Invierto la máscara para eliminar los nulos\n",
    "y_train = y_train[mask_index] # Aplico la primera máscara a y_train para conservar mismo número de filas\n",
    "\n"
   ]
  },
  {
   "cell_type": "code",
   "execution_count": 74,
   "id": "46750516",
   "metadata": {},
   "outputs": [
    {
     "data": {
      "text/plain": [
       "\"\\n# Ahora que eliminé las filas con nulos teniendo en cuenta brandName y ya no se tienen en cuenta nulos en las otras columnas, elimino brandName\\nX_train.drop(columns = 'brandName', inplace = True)\\nX_test.drop(columns = 'brandName', inplace = True)\\n\""
      ]
     },
     "execution_count": 74,
     "metadata": {},
     "output_type": "execute_result"
    }
   ],
   "source": [
    "'''\n",
    "# Ahora que eliminé las filas con nulos teniendo en cuenta brandName y ya no se tienen en cuenta nulos en las otras columnas, elimino brandName\n",
    "X_train.drop(columns = 'brandName', inplace = True)\n",
    "X_test.drop(columns = 'brandName', inplace = True)\n",
    "'''"
   ]
  },
  {
   "cell_type": "code",
   "execution_count": 75,
   "id": "ba9789e5",
   "metadata": {},
   "outputs": [
    {
     "data": {
      "text/plain": [
       "(1996, 5)"
      ]
     },
     "execution_count": 75,
     "metadata": {},
     "output_type": "execute_result"
    }
   ],
   "source": [
    "X_train.shape"
   ]
  },
  {
   "cell_type": "code",
   "execution_count": 76,
   "id": "c6bda456",
   "metadata": {},
   "outputs": [
    {
     "data": {
      "text/plain": [
       "(1996,)"
      ]
     },
     "execution_count": 76,
     "metadata": {},
     "output_type": "execute_result"
    }
   ],
   "source": [
    "y_train.shape"
   ]
  },
  {
   "cell_type": "code",
   "execution_count": 77,
   "id": "bdf7895a",
   "metadata": {},
   "outputs": [
    {
     "data": {
      "text/plain": [
       "Index(['rating', 'reviewCount', 'brand', 'category', 'has_variants'], dtype='object')"
      ]
     },
     "execution_count": 77,
     "metadata": {},
     "output_type": "execute_result"
    }
   ],
   "source": [
    "X_train.columns"
   ]
  },
  {
   "cell_type": "code",
   "execution_count": 78,
   "id": "df38d46e",
   "metadata": {},
   "outputs": [
    {
     "name": "stdout",
     "output_type": "stream",
     "text": [
      "<class 'pandas.core.frame.DataFrame'>\n",
      "Index: 1996 entries, 3478 to 22345\n",
      "Data columns (total 5 columns):\n",
      " #   Column        Non-Null Count  Dtype  \n",
      "---  ------        --------------  -----  \n",
      " 0   rating        1996 non-null   float64\n",
      " 1   reviewCount   1996 non-null   float64\n",
      " 2   brand         1996 non-null   object \n",
      " 3   category      1996 non-null   object \n",
      " 4   has_variants  1996 non-null   Int8   \n",
      "dtypes: Int8(1), float64(2), object(2)\n",
      "memory usage: 81.9+ KB\n"
     ]
    }
   ],
   "source": [
    "X_train.info()"
   ]
  },
  {
   "cell_type": "markdown",
   "id": "e16dec53",
   "metadata": {},
   "source": [
    "# 9. Análisis Univariante"
   ]
  },
  {
   "cell_type": "code",
   "execution_count": 79,
   "id": "3267537b",
   "metadata": {},
   "outputs": [
    {
     "name": "stdout",
     "output_type": "stream",
     "text": [
      "\n",
      "desc de 'rating':\n",
      "count    1996.000000\n",
      "mean        4.508116\n",
      "std         0.329173\n",
      "min         1.000000\n",
      "25%         4.400000\n",
      "50%         4.600000\n",
      "75%         4.700000\n",
      "max         5.000000\n",
      "Name: rating, dtype: float64\n"
     ]
    },
    {
     "data": {
      "image/png": "[encoded data removed]",
      "text/plain": [
       "<Figure size 1200x400 with 2 Axes>"
      ]
     },
     "metadata": {},
     "output_type": "display_data"
    },
    {
     "name": "stdout",
     "output_type": "stream",
     "text": [
      "\n",
      "desc de 'reviewCount':\n",
      "count      1996.000000\n",
      "mean      10014.972445\n",
      "std       36569.366678\n",
      "min           1.000000\n",
      "25%         191.000000\n",
      "50%        1229.500000\n",
      "75%        6820.500000\n",
      "max      834243.000000\n",
      "Name: reviewCount, dtype: float64\n"
     ]
    },
    {
     "data": {
      "image/png": "[encoded data removed]",
      "text/plain": [
       "<Figure size 1200x400 with 2 Axes>"
      ]
     },
     "metadata": {},
     "output_type": "display_data"
    },
    {
     "name": "stdout",
     "output_type": "stream",
     "text": [
      "\n",
      "frecuencia de valores en 'category':\n",
      "category\n",
      "Clothing, Shoes & Jewelry       544\n",
      "Sports & Outdoors               291\n",
      "Automotive                      246\n",
      "Books                           164\n",
      "Industrial & Scientific         162\n",
      "Audible Books & Originals        70\n",
      "Grocery & Gourmet Food           68\n",
      "CDs & Vinyl                      64\n",
      "Kindle Store                     57\n",
      "Office Products                  45\n",
      "Health & Household               32\n",
      "Electronics                      31\n",
      "Kitchen & Dining                 30\n",
      "Toys & Games                     28\n",
      "Home & Kitchen                   27\n",
      "Musical Instruments              24\n",
      "Patio, Lawn & Garden             20\n",
      "Amazon Devices & Accessories     12\n",
      "Pet Supplies                     11\n",
      "Movies & TV                      10\n",
      "Cell Phones & Accessories        10\n",
      "Baby                              9\n",
      "Video Games                       8\n",
      "Tools & Home Improvement          8\n",
      "Arts, Crafts & Sewing             5\n",
      "Beauty & Personal Care            5\n",
      "Computers & Accessories           4\n",
      "Camera & Photo Products           3\n",
      "Amazon Renewed                    3\n",
      "Software                          3\n",
      "Sports Collectibles               2\n",
      "Name: count, dtype: int64\n"
     ]
    },
    {
     "data": {
      "image/png": "[encoded data removed]",
      "text/plain": [
       "<Figure size 1200x500 with 1 Axes>"
      ]
     },
     "metadata": {},
     "output_type": "display_data"
    },
    {
     "name": "stdout",
     "output_type": "stream",
     "text": [
      "\n",
      "frecuencia de valores en 'brand':\n",
      "brand\n",
      ".us               768\n",
      "Amazon            166\n",
      "audible logo      122\n",
      "generic            52\n",
      "dorman             40\n",
      "                 ... \n",
      "general motors      6\n",
      "microsoft           6\n",
      "motorcraft          6\n",
      "prime-line          6\n",
      "small parts         4\n",
      "Name: count, Length: 85, dtype: int64\n"
     ]
    },
    {
     "data": {
      "image/png": "[encoded data removed]",
      "text/plain": [
       "<Figure size 1200x500 with 1 Axes>"
      ]
     },
     "metadata": {},
     "output_type": "display_data"
    },
    {
     "name": "stdout",
     "output_type": "stream",
     "text": [
      "\n",
      "número de valores en 'has_variants':\n",
      "has_variants\n",
      "1    1108\n",
      "0     888\n",
      "Name: count, dtype: Int64\n"
     ]
    },
    {
     "data": {
      "image/png": "[encoded data removed]",
      "text/plain": [
       "<Figure size 600x400 with 1 Axes>"
      ]
     },
     "metadata": {},
     "output_type": "display_data"
    }
   ],
   "source": [
    "# análisis para rating y reviewCount (numericas)\n",
    "\n",
    "for col in ['rating', 'reviewCount']:\n",
    "    print(f\"\\ndesc de '{col}':\")\n",
    "    print(X_train[col].describe())\n",
    "    \n",
    "    plt.figure(figsize=(12,4))\n",
    "    \n",
    "    plt.subplot(1,2,1)\n",
    "    sns.histplot(X_train[col], kde=True, bins=30) # hist kde\n",
    "    plt.title(f'histograma y densidad de {col}')\n",
    "    \n",
    "    plt.subplot(1,2,2)\n",
    "    sns.boxplot(x=X_train[col])\n",
    "    plt.title(f'boxplot de {col}')\n",
    "    \n",
    "    plt.tight_layout()\n",
    "    plt.show()\n",
    "\n",
    "\n",
    "# análisis para category y brand (categoricas)\n",
    "\n",
    "for col in ['category', 'brand']:\n",
    "    print(f\"\\nfrecuencia de valores en '{col}':\")\n",
    "    print(X_train[col].value_counts())\n",
    "    \n",
    "    plt.figure(figsize=(12,5))\n",
    "    \n",
    "    sns.countplot(data=X_train, x=col, order=X_train[col].value_counts().index)\n",
    "    plt.title(f'número de categorías en {col}')\n",
    "    plt.xticks(rotation=45)\n",
    "    plt.show()\n",
    "    \n",
    "\n",
    "# análisis para has_variants\n",
    "\n",
    "print(\"\\nnúmero de valores en 'has_variants':\")\n",
    "print(X_train['has_variants'].value_counts())\n",
    "\n",
    "plt.figure(figsize=(6,4))\n",
    "sns.countplot(x=X_train['has_variants'])\n",
    "plt.title('número de valores en has_variants')\n",
    "plt.show()\n",
    "\n",
    "\n"
   ]
  },
  {
   "cell_type": "markdown",
   "id": "fa7ef848",
   "metadata": {},
   "source": [
    "# 10. Análisis Bivariante"
   ]
  },
  {
   "cell_type": "code",
   "execution_count": 80,
   "id": "9da7af6d",
   "metadata": {},
   "outputs": [
    {
     "data": {
      "image/png": "[encoded data removed]",
      "text/plain": [
       "<Figure size 600x500 with 1 Axes>"
      ]
     },
     "metadata": {},
     "output_type": "display_data"
    },
    {
     "name": "stdout",
     "output_type": "stream",
     "text": [
      "corr pearson: -0.075 (p-valor: 0.001)\n"
     ]
    },
    {
     "data": {
      "image/png": "[encoded data removed]",
      "text/plain": [
       "<Figure size 600x500 with 1 Axes>"
      ]
     },
     "metadata": {},
     "output_type": "display_data"
    },
    {
     "name": "stdout",
     "output_type": "stream",
     "text": [
      "corr pearson: -0.034 (p-valor: 0.131)\n"
     ]
    },
    {
     "data": {
      "image/png": "[encoded data removed]",
      "text/plain": [
       "<Figure size 1200x600 with 1 Axes>"
      ]
     },
     "metadata": {},
     "output_type": "display_data"
    },
    {
     "name": "stdout",
     "output_type": "stream",
     "text": [
      "ANOVA p-valor para precio/category: 0.00000\n"
     ]
    },
    {
     "data": {
      "image/png": "[encoded data removed]",
      "text/plain": [
       "<Figure size 1200x600 with 1 Axes>"
      ]
     },
     "metadata": {},
     "output_type": "display_data"
    },
    {
     "name": "stdout",
     "output_type": "stream",
     "text": [
      "ANOVA p-valor para precio/brand: 0.00000\n"
     ]
    },
    {
     "data": {
      "image/png": "[encoded data removed]",
      "text/plain": [
       "<Figure size 600x500 with 1 Axes>"
      ]
     },
     "metadata": {},
     "output_type": "display_data"
    },
    {
     "name": "stdout",
     "output_type": "stream",
     "text": [
      "test t para precio/has_variants: t=3.088, p-valor=0.00205\n"
     ]
    }
   ],
   "source": [
    "# price vs rating \n",
    "\n",
    "plt.figure(figsize=(6,5))\n",
    "sns.scatterplot(x=X_train['rating'], y=y_train)\n",
    "plt.title('price vs rating')\n",
    "plt.xlabel('rating')\n",
    "plt.ylabel('price')\n",
    "plt.show()\n",
    "\n",
    "# corr pearson\n",
    "pearson_corr, p_value = stats.pearsonr(X_train['rating'], y_train)\n",
    "print(f\"corr pearson: {pearson_corr:.3f} (p-valor: {p_value:.3f})\")\n",
    "\n",
    "# price vs reviewCount\n",
    "\n",
    "plt.figure(figsize=(6,5))\n",
    "sns.scatterplot(x=X_train['reviewCount'], y=y_train)\n",
    "plt.title('price vs reviewCount')\n",
    "plt.xlabel('reviewCount')\n",
    "plt.ylabel('price')\n",
    "plt.show()\n",
    "\n",
    "# corr pearson\n",
    "pearson_corr_rc, p_value_rc = stats.pearsonr(X_train['reviewCount'], y_train)\n",
    "print(f\"corr pearson: {pearson_corr_rc:.3f} (p-valor: {p_value_rc:.3f})\")\n",
    "\n",
    "# price vs category\n",
    "\n",
    "plt.figure(figsize=(12,6))\n",
    "sns.boxplot(x=X_train['category'], y=y_train)\n",
    "plt.title('price por category')\n",
    "plt.xticks(rotation=45)\n",
    "plt.show()\n",
    "\n",
    "# ANOVA\n",
    "anova_result = stats.f_oneway(*(y_train[X_train['category'] == cat] for cat in X_train['category'].unique()))\n",
    "print(f\"ANOVA p-valor para precio/category: {anova_result.pvalue:.5f}\")\n",
    "\n",
    "# price vs brand\n",
    "\n",
    "plt.figure(figsize=(12,6))\n",
    "sns.boxplot(x=X_train['brand'], y=y_train)\n",
    "plt.title('price por brand')\n",
    "plt.xticks(rotation=45)\n",
    "plt.show()\n",
    "\n",
    "anova_result_bc = stats.f_oneway(*(y_train[X_train['brand'] == cat] for cat in X_train['brand'].unique()))\n",
    "print(f\"ANOVA p-valor para precio/brand: {anova_result_bc.pvalue:.5f}\")\n",
    "\n",
    "\n",
    "# price vs has_variants\n",
    "\n",
    "plt.figure(figsize=(6,5))\n",
    "sns.boxplot(x=X_train['has_variants'], y=y_train)\n",
    "plt.title('price/has_variants')\n",
    "plt.show()\n",
    "\n",
    "# Test t de Student para diferencia de medias\n",
    "grupo_true = y_train[X_train['has_variants'] == True]\n",
    "grupo_false = y_train[X_train['has_variants'] == False]\n",
    "\n",
    "t_stat, p_val = stats.ttest_ind(grupo_true, grupo_false, equal_var=False)\n",
    "print(f\"test t para precio/has_variants: t={t_stat:.3f}, p-valor={p_val:.5f}\")"
   ]
  },
  {
   "cell_type": "markdown",
   "id": "11b374ca",
   "metadata": {},
   "source": [
    "# 11. Outliers"
   ]
  },
  {
   "cell_type": "code",
   "execution_count": 81,
   "id": "baaaa0e7",
   "metadata": {},
   "outputs": [
    {
     "name": "stdout",
     "output_type": "stream",
     "text": [
      "Q1: 2.3865849045657175\n",
      "Q3: 3.2227161226768706\n",
      "IQR: 0.8361312181111531\n",
      "Lower bound: 1.1323880773989878\n",
      "Upper bound: 4.4769129498436\n",
      "Total de datos: 1996\n",
      "Cantidad de Outliers: 127\n",
      "3478     5.159378\n",
      "3768     0.571855\n",
      "14717    0.393897\n",
      "12617    0.959861\n",
      "15791    4.565763\n",
      "25748    5.159378\n",
      "24201    4.561151\n",
      "14450    0.325972\n",
      "14896    0.463236\n",
      "6244     5.281698\n",
      "dtype: float64\n"
     ]
    }
   ],
   "source": [
    "Q1 = np.percentile(y_train, 25)\n",
    "Q3 = np.percentile(y_train, 75)\n",
    "IQR = Q3 - Q1\n",
    "\n",
    "lower_bound = Q1 - 1.5 * IQR\n",
    "upper_bound = Q3 + 1.5 * IQR\n",
    "\n",
    "outliers_mask = (y_train < lower_bound) | (y_train > upper_bound)\n",
    "\n",
    "print(f\"Q1: {Q1}\")\n",
    "print(f\"Q3: {Q3}\")\n",
    "print(f\"IQR: {IQR}\")\n",
    "print(f\"Lower bound: {lower_bound}\")\n",
    "print(f\"Upper bound: {upper_bound}\")\n",
    "\n",
    "print(f\"Total de datos: {len(y_train)}\")\n",
    "print(f\"Cantidad de Outliers: {outliers_mask.sum()}\")\n",
    "\n",
    "# veo algunos outliers\n",
    "print(y_train[outliers_mask].head(10))"
   ]
  },
  {
   "cell_type": "code",
   "execution_count": 82,
   "id": "9ff9ef69",
   "metadata": {},
   "outputs": [
    {
     "data": {
      "text/plain": [
       "'\\n# Eliminar outliers\\nX_train_clean = X_train.loc[~outliers_mask]\\ny_train_clean = y_train.loc[~outliers_mask]\\n'"
      ]
     },
     "execution_count": 82,
     "metadata": {},
     "output_type": "execute_result"
    }
   ],
   "source": [
    "# capar outliers\n",
    "\n",
    "y_train_capped = y_train.copy()\n",
    "y_train[y_train < lower_bound] = lower_bound\n",
    "y_train[y_train > upper_bound] = upper_bound\n",
    "\n",
    "'''\n",
    "# Eliminar outliers\n",
    "X_train_clean = X_train.loc[~outliers_mask]\n",
    "y_train_clean = y_train.loc[~outliers_mask]\n",
    "'''"
   ]
  },
  {
   "cell_type": "code",
   "execution_count": 83,
   "id": "bed0cbc9",
   "metadata": {},
   "outputs": [
    {
     "data": {
      "text/plain": [
       "Index(['rating', 'reviewCount', 'brand', 'category', 'has_variants'], dtype='object')"
      ]
     },
     "execution_count": 83,
     "metadata": {},
     "output_type": "execute_result"
    }
   ],
   "source": [
    "X_test.columns"
   ]
  },
  {
   "cell_type": "code",
   "execution_count": 84,
   "id": "47e11852",
   "metadata": {},
   "outputs": [],
   "source": [
    "# Hago esto porque si no los modelos petan con nulos\n",
    "\n",
    "# mask es un boolean array para filas sin NaNs en X_test\n",
    "mask = ~X_test.isna().any(axis=1)\n",
    "\n",
    "X_test = X_test.loc[mask] # aplico mascara\n",
    "\n",
    "y_test = y_test[mask] # aplico mascara\n"
   ]
  },
  {
   "cell_type": "code",
   "execution_count": 85,
   "id": "3481309f",
   "metadata": {},
   "outputs": [
    {
     "name": "stdout",
     "output_type": "stream",
     "text": [
      "NaNs en X_train: 0\n",
      "NaNs en X_test: 0\n"
     ]
    }
   ],
   "source": [
    "print(\"NaNs en X_train:\", X_train.isna().sum().sum())\n",
    "print(\"NaNs en X_test:\", X_test.isna().sum().sum())"
   ]
  },
  {
   "cell_type": "code",
   "execution_count": 86,
   "id": "f3c15a29",
   "metadata": {},
   "outputs": [
    {
     "name": "stdout",
     "output_type": "stream",
     "text": [
      "       rating  reviewCount    brand                   category  has_variants\n",
      "3478      4.6       1431.0   garmin  Cell Phones & Accessories             0\n",
      "24582     4.3         39.0  generic          Sports & Outdoors             1\n",
      "24619     4.5      18065.0     foco          Sports & Outdoors             1\n",
      "12524     4.4          3.0  generic     Grocery & Gourmet Food             0\n",
      "21789     4.8        104.0   Amazon                CDs & Vinyl             0\n"
     ]
    },
    {
     "data": {
      "text/plain": [
       "(1996, 5)"
      ]
     },
     "execution_count": 86,
     "metadata": {},
     "output_type": "execute_result"
    }
   ],
   "source": [
    "print(X_train.head(5))\n",
    "X_train.shape"
   ]
  },
  {
   "cell_type": "code",
   "execution_count": 87,
   "id": "b3c8a2aa",
   "metadata": {},
   "outputs": [
    {
     "name": "stdout",
     "output_type": "stream",
     "text": [
      "       rating  reviewCount                    brand  \\\n",
      "19962     4.2         38.0  standard motor products   \n",
      "24679     4.5        619.0                      .us   \n",
      "18449     4.6        579.0                      .us   \n",
      "7127      4.5       1952.0                       3m   \n",
      "2417      4.6       6464.0                      wen   \n",
      "\n",
      "                        category  has_variants  \n",
      "19962                 Automotive             0  \n",
      "24679          Sports & Outdoors             1  \n",
      "18449  Clothing, Shoes & Jewelry             1  \n",
      "7127     Industrial & Scientific             0  \n",
      "2417     Industrial & Scientific             1  \n"
     ]
    },
    {
     "data": {
      "text/plain": [
       "(685, 5)"
      ]
     },
     "execution_count": 87,
     "metadata": {},
     "output_type": "execute_result"
    }
   ],
   "source": [
    "print(X_test.head(5))\n",
    "X_test.shape"
   ]
  },
  {
   "cell_type": "code",
   "execution_count": 88,
   "id": "dbe917fa",
   "metadata": {},
   "outputs": [
    {
     "name": "stdout",
     "output_type": "stream",
     "text": [
      "3478     4.476913\n",
      "24582    2.598312\n",
      "24619    3.182504\n",
      "12524    3.504163\n",
      "21789    3.143947\n",
      "dtype: float64\n"
     ]
    },
    {
     "data": {
      "text/plain": [
       "(1996,)"
      ]
     },
     "execution_count": 88,
     "metadata": {},
     "output_type": "execute_result"
    }
   ],
   "source": [
    "print(y_train.head(5))\n",
    "y_train.shape"
   ]
  },
  {
   "cell_type": "markdown",
   "id": "d6d102b0",
   "metadata": {},
   "source": [
    "# 12. Escoger Métrica del Modelo"
   ]
  },
  {
   "cell_type": "code",
   "execution_count": 89,
   "id": "4f39bf86",
   "metadata": {},
   "outputs": [
    {
     "name": "stdout",
     "output_type": "stream",
     "text": [
      "Score del modelo (R^2): 0.4186\n",
      "R^2 score: -0.3886\n",
      "MAE score: 0.421\n",
      "MSE score: 0.3034\n",
      "RMSE score: 0.5508\n",
      "MAPE score: 16.4675\n"
     ]
    }
   ],
   "source": [
    "# Metricas de regresión\n",
    "\n",
    "\n",
    "X_train = pd.get_dummies(X_train) # Hago one hot encoding de las categoricas\n",
    "X_test = pd.get_dummies(X_test) # Hago one hot encoding de las categoricas\n",
    "X_train, X_test = X_train.align(X_test, join='left', axis=1, fill_value=0)\n",
    "\n",
    "\n",
    "lr = LinearRegression()\n",
    "X = X_train\n",
    "Y = y_train\n",
    "\n",
    "lr.fit(X, Y)\n",
    "preds = lr.predict(X)\n",
    "\n",
    "print(\"Score del modelo (R^2):\", round(lr.score(X, Y), 4))\n",
    "print(\"R^2 score:\", round(r2_score(preds, Y), 4))\n",
    "print(\"MAE score:\", round(mean_absolute_error(preds, Y), 4))\n",
    "print(\"MSE score:\", round(mean_squared_error(preds, Y), 4))\n",
    "print(\"RMSE score:\", round(np.sqrt(mean_squared_error(preds, Y)), 4))\n",
    "\n",
    "def mean_absolute_percentage_error(y_pred, y_true): \n",
    "    y_true, y_pred = np.array(y_true), np.array(y_pred)\n",
    "    return np.mean(np.abs((y_true - y_pred) / y_true)) * 100\n",
    "\n",
    "\n",
    "print(\"MAPE score:\", round(mean_absolute_percentage_error(preds, Y), 4))"
   ]
  },
  {
   "cell_type": "code",
   "execution_count": 90,
   "id": "851dfede",
   "metadata": {},
   "outputs": [
    {
     "name": "stdout",
     "output_type": "stream",
     "text": [
      "Score del modelo (R^2 - train): 0.9978\n",
      "R^2 score (test): -0.0475\n",
      "MAE score: 0.6068\n",
      "MSE score: 0.6461\n",
      "RMSE score: 0.8038\n"
     ]
    }
   ],
   "source": [
    "# entrenar arbol\n",
    "tree = DecisionTreeRegressor(random_state=42)\n",
    "tree.fit(X_train, y_train)\n",
    "\n",
    "y_pred = tree.predict(X_test) # prediccion\n",
    "\n",
    "print(\"Score del modelo (R^2 - train):\", round(tree.score(X_train, y_train), 4))\n",
    "print(\"R^2 score (test):\", round(r2_score(y_test, y_pred), 4))\n",
    "print(\"MAE score:\", round(mean_absolute_error(y_test, y_pred), 4))\n",
    "print(\"MSE score:\", round(mean_squared_error(y_test, y_pred), 4))\n",
    "print(\"RMSE score:\", round(np.sqrt(mean_squared_error(y_test, y_pred)), 4))"
   ]
  },
  {
   "cell_type": "code",
   "execution_count": 91,
   "id": "df1266f2",
   "metadata": {},
   "outputs": [
    {
     "name": "stdout",
     "output_type": "stream",
     "text": [
      "Fitting 3 folds for each of 18 candidates, totalling 54 fits\n",
      "Mejores hiperparámetros: {'max_depth': 10, 'min_samples_leaf': 1, 'n_estimators': 100}\n",
      "R^2 (train): 0.3872\n",
      "R^2 (test): 0.2943\n",
      "MAE: 0.4886\n",
      "MSE: 0.4353\n",
      "RMSE: 0.6597\n",
      "MAPE: 64.3691\n"
     ]
    }
   ],
   "source": [
    "\n",
    "\n",
    "# defino modelo\n",
    "rf = RandomForestRegressor(random_state=42)\n",
    "\n",
    "# grif para buscar hiperparametros\n",
    "param_grid = {\n",
    "    'n_estimators': [50, 100],\n",
    "    'max_depth': [5, 10, None],\n",
    "    'min_samples_leaf': [1, 5, 10]\n",
    "}\n",
    "\n",
    "# gridSearch cross validation / 3folds\n",
    "grid_search = GridSearchCV(estimator=rf, param_grid=param_grid,\n",
    "                           cv=3, scoring='r2', n_jobs=-1, verbose=1)\n",
    "\n",
    "# entrenar\n",
    "grid_search.fit(X_train, y_train)\n",
    "\n",
    "print(\"Mejores hiperparámetros:\", grid_search.best_params_)\n",
    "\n",
    "# prediecir con mejor modelo\n",
    "best_rf = grid_search.best_estimator_\n",
    "y_pred = best_rf.predict(X_test)\n",
    "\n",
    "print(\"R^2 (train):\", round(best_rf.score(X_train, y_train), 4))\n",
    "print(\"R^2 (test):\", round(r2_score(y_test, y_pred), 4))\n",
    "print(\"MAE:\", round(mean_absolute_error(y_test, y_pred), 4))\n",
    "print(\"MSE:\", round(mean_squared_error(y_test, y_pred), 4))\n",
    "print(\"RMSE:\", round(np.sqrt(mean_squared_error(y_test, y_pred)), 4))\n",
    "\n",
    "def mean_absolute_percentage_error(y_true, y_pred):\n",
    "    y_true, y_pred = np.array(y_true), np.array(y_pred)\n",
    "    mask = y_true != 0\n",
    "    return np.mean(np.abs((y_true[mask] - y_pred[mask]) / y_true[mask])) * 100\n",
    "\n",
    "print(\"MAPE:\", round(mean_absolute_percentage_error(y_test, y_pred), 4))"
   ]
  },
  {
   "cell_type": "code",
   "execution_count": 92,
   "id": "1746d37f",
   "metadata": {},
   "outputs": [
    {
     "name": "stdout",
     "output_type": "stream",
     "text": [
      "NaNs en X_train: 0\n",
      "NaNs en X_test: 0\n"
     ]
    }
   ],
   "source": [
    "print(\"NaNs en X_train:\", X_train.isna().sum().sum())\n",
    "print(\"NaNs en X_test:\", X_test.isna().sum().sum())"
   ]
  },
  {
   "cell_type": "code",
   "execution_count": 93,
   "id": "16adbb4d",
   "metadata": {},
   "outputs": [
    {
     "name": "stdout",
     "output_type": "stream",
     "text": [
      "Modelo: Decision Tree\n",
      "Score del modelo (R^2 - train): 0.9978\n",
      "R^2 score (test): -0.0475\n",
      "MAE score: 0.6068\n",
      "MSE score: 0.6461\n",
      "RMSE score: 0.8038\n",
      "------------------------------\n",
      "Modelo: Random Forest\n",
      "Score del modelo (R^2 - train): 0.8978\n",
      "R^2 score (test): 0.3172\n",
      "MAE score: 0.4833\n",
      "MSE score: 0.4211\n",
      "RMSE score: 0.649\n",
      "------------------------------\n",
      "Modelo: Hist Gradient Boosting\n",
      "Score del modelo (R^2 - train): 0.5266\n",
      "R^2 score (test): 0.2397\n",
      "MAE score: 0.5073\n",
      "MSE score: 0.469\n",
      "RMSE score: 0.6848\n",
      "------------------------------\n",
      "Modelo: Linear Regression\n",
      "Score del modelo (R^2 - train): 0.4186\n",
      "R^2 score (test): 0.3821\n",
      "MAE score: 0.4567\n",
      "MSE score: 0.3811\n",
      "RMSE score: 0.6173\n",
      "------------------------------\n",
      "Modelo: Ridge Regression\n",
      "Score del modelo (R^2 - train): 0.4156\n",
      "R^2 score (test): 0.3787\n",
      "MAE score: 0.4572\n",
      "MSE score: 0.3832\n",
      "RMSE score: 0.619\n",
      "------------------------------\n",
      "Modelo: Lasso Regression\n",
      "Score del modelo (R^2 - train): 0.0013\n",
      "R^2 score (test): 0.001\n",
      "MAE score: 0.5691\n",
      "MSE score: 0.6162\n",
      "RMSE score: 0.785\n",
      "------------------------------\n"
     ]
    }
   ],
   "source": [
    "\n",
    "models = {\n",
    "    \"Decision Tree\": DecisionTreeRegressor(random_state=42),\n",
    "    \"Random Forest\": RandomForestRegressor(random_state=42, n_estimators=100),\n",
    "    \"Hist Gradient Boosting\": HistGradientBoostingRegressor(random_state=42),\n",
    "    \"Linear Regression\": LinearRegression(),\n",
    "    \"Ridge Regression\": Ridge(random_state=42),\n",
    "    \"Lasso Regression\": Lasso(random_state=42)\n",
    "}\n",
    "\n",
    "for name, model in models.items():\n",
    "    model.fit(X_train, y_train)\n",
    "    y_pred = model.predict(X_test)\n",
    "    print(f\"Modelo: {name}\")\n",
    "    print(\"Score del modelo (R^2 - train):\", round(model.score(X_train, y_train), 4))\n",
    "    print(\"R^2 score (test):\", round(r2_score(y_test, y_pred), 4))\n",
    "    print(\"MAE score:\", round(mean_absolute_error(y_test, y_pred), 4))\n",
    "    print(\"MSE score:\", round(mean_squared_error(y_test, y_pred), 4))\n",
    "    print(\"RMSE score:\", round(np.sqrt(mean_squared_error(y_test, y_pred)), 4))\n",
    "    print(\"-\" * 30)"
   ]
  },
  {
   "cell_type": "code",
   "execution_count": 94,
   "id": "fbee571c",
   "metadata": {},
   "outputs": [
    {
     "data": {
      "text/plain": [
       "'\\nAjustado outliers\\n\\n\\nModelo: Decision Tree\\nScore del modelo (R^2 - train): 0.9598\\nR^2 score (test): -1.0356\\nMAE score: 0.6663\\nMSE score: 0.6882\\nRMSE score: 0.8296\\n------------------------------\\nModelo: Random Forest\\nScore del modelo (R^2 - train): 0.8363\\nR^2 score (test): -0.101\\nMAE score: 0.4723\\nMSE score: 0.3723\\nRMSE score: 0.6101\\n------------------------------\\nModelo: Hist Gradient Boosting\\nScore del modelo (R^2 - train): 0.2317\\nR^2 score (test): 0.0923\\nMAE score: 0.4303\\nMSE score: 0.3069\\nRMSE score: 0.554\\n------------------------------\\nModelo: Linear Regression\\nScore del modelo (R^2 - train): 0.1578\\nR^2 score (test): 0.068\\nMAE score: 0.4362\\n...\\nMAE score: 0.4708\\nMSE score: 0.3513\\nRMSE score: 0.5927\\n\\nEliminando outiers\\n\\nModelo: Decision Tree\\nScore del modelo (R^2 - train): 0.9572\\nR^2 score (test): -0.9548\\nMAE score: 0.6471\\nMSE score: 0.6609\\nRMSE score: 0.813\\n------------------------------\\nModelo: Random Forest\\nScore del modelo (R^2 - train): 0.8353\\nR^2 score (test): -0.1102\\nMAE score: 0.4766\\nMSE score: 0.3754\\nRMSE score: 0.6127\\n------------------------------\\nModelo: Hist Gradient Boosting\\nScore del modelo (R^2 - train): 0.2219\\nR^2 score (test): 0.0666\\nMAE score: 0.4349\\nMSE score: 0.3156\\nRMSE score: 0.5618\\n------------------------------\\nModelo: Linear Regression\\nScore del modelo (R^2 - train): 0.1608\\nR^2 score (test): 0.0578\\nMAE score: 0.4371\\n...\\nMAE score: 0.4714\\nMSE score: 0.3524\\nRMSE score: 0.5936\\n'"
      ]
     },
     "execution_count": 94,
     "metadata": {},
     "output_type": "execute_result"
    }
   ],
   "source": [
    "'''\n",
    "Ajustado outliers\n",
    "\n",
    "\n",
    "Modelo: Decision Tree\n",
    "Score del modelo (R^2 - train): 0.9598\n",
    "R^2 score (test): -1.0356\n",
    "MAE score: 0.6663\n",
    "MSE score: 0.6882\n",
    "RMSE score: 0.8296\n",
    "------------------------------\n",
    "Modelo: Random Forest\n",
    "Score del modelo (R^2 - train): 0.8363\n",
    "R^2 score (test): -0.101\n",
    "MAE score: 0.4723\n",
    "MSE score: 0.3723\n",
    "RMSE score: 0.6101\n",
    "------------------------------\n",
    "Modelo: Hist Gradient Boosting\n",
    "Score del modelo (R^2 - train): 0.2317\n",
    "R^2 score (test): 0.0923\n",
    "MAE score: 0.4303\n",
    "MSE score: 0.3069\n",
    "RMSE score: 0.554\n",
    "------------------------------\n",
    "Modelo: Linear Regression\n",
    "Score del modelo (R^2 - train): 0.1578\n",
    "R^2 score (test): 0.068\n",
    "MAE score: 0.4362\n",
    "...\n",
    "MAE score: 0.4708\n",
    "MSE score: 0.3513\n",
    "RMSE score: 0.5927\n",
    "\n",
    "Eliminando outiers\n",
    "\n",
    "Modelo: Decision Tree\n",
    "Score del modelo (R^2 - train): 0.9572\n",
    "R^2 score (test): -0.9548\n",
    "MAE score: 0.6471\n",
    "MSE score: 0.6609\n",
    "RMSE score: 0.813\n",
    "------------------------------\n",
    "Modelo: Random Forest\n",
    "Score del modelo (R^2 - train): 0.8353\n",
    "R^2 score (test): -0.1102\n",
    "MAE score: 0.4766\n",
    "MSE score: 0.3754\n",
    "RMSE score: 0.6127\n",
    "------------------------------\n",
    "Modelo: Hist Gradient Boosting\n",
    "Score del modelo (R^2 - train): 0.2219\n",
    "R^2 score (test): 0.0666\n",
    "MAE score: 0.4349\n",
    "MSE score: 0.3156\n",
    "RMSE score: 0.5618\n",
    "------------------------------\n",
    "Modelo: Linear Regression\n",
    "Score del modelo (R^2 - train): 0.1608\n",
    "R^2 score (test): 0.0578\n",
    "MAE score: 0.4371\n",
    "...\n",
    "MAE score: 0.4714\n",
    "MSE score: 0.3524\n",
    "RMSE score: 0.5936\n",
    "'''"
   ]
  },
  {
   "cell_type": "code",
   "execution_count": 95,
   "id": "a89c5836",
   "metadata": {},
   "outputs": [],
   "source": [
    "param_grid_hist = {\n",
    "    'max_iter': [100, 200, 300],             # cantidad de arboles\n",
    "    'max_depth': [3, 5, 7, 10],              # profundidad máxima por árbol\n",
    "    'learning_rate': [0.01, 0.05, 0.1],      # ritmo de entrenamiento\n",
    "    'min_samples_leaf': [20, 50, 100],       # min samples por hoja\n",
    "    'max_leaf_nodes': [15, 31, 63],          # max de hojas por árbol\n",
    "    'l2_regularization': [0, 1, 5]           # regularizar para evitar overfitting\n",
    "}\n",
    "\n",
    "param_grid_rf = {\n",
    "    'n_estimators': [100, 200, 300],         \n",
    "    'max_depth': [None, 10, 20, 30],         \n",
    "    'min_samples_split': [2, 5, 10],         \n",
    "    'min_samples_leaf': [1, 2, 5, 10],       \n",
    "    'max_features': ['auto', 'sqrt', 0.5]    # características a tener en cuenta para cada split\n",
    "}"
   ]
  },
  {
   "cell_type": "code",
   "execution_count": 96,
   "id": "0c10f5bd",
   "metadata": {},
   "outputs": [
    {
     "name": "stdout",
     "output_type": "stream",
     "text": [
      "Mejores parámetros HistGB: {'min_samples_leaf': 20, 'max_leaf_nodes': 15, 'max_iter': 300, 'max_depth': 7, 'learning_rate': 0.01, 'l2_regularization': 5}\n",
      "Mejor R2 CV: 0.20665598504904456\n"
     ]
    }
   ],
   "source": [
    "\n",
    "hgb = HistGradientBoostingRegressor(random_state=42)\n",
    "random_search_hgb = RandomizedSearchCV(\n",
    "    estimator=hgb,\n",
    "    param_distributions=param_grid_hist,\n",
    "    n_iter=20,               \n",
    "    cv=3,\n",
    "    scoring='r2',\n",
    "    random_state=42,\n",
    "    n_jobs=-1\n",
    ")\n",
    "random_search_hgb.fit(X_train, y_train)\n",
    "\n",
    "print(\"Mejores parámetros HistGB:\", random_search_hgb.best_params_)\n",
    "print(\"Mejor R2 CV:\", random_search_hgb.best_score_)"
   ]
  },
  {
   "cell_type": "code",
   "execution_count": 97,
   "id": "8ef724a9",
   "metadata": {},
   "outputs": [
    {
     "name": "stdout",
     "output_type": "stream",
     "text": [
      "Modelo: Decision Tree\n",
      "Score del modelo (R^2 - train): 0.9978\n",
      "R^2 score (test): -0.0475\n",
      "MAE score: 0.6068\n",
      "MSE score: 0.6461\n",
      "RMSE score: 0.8038\n",
      "------------------------------\n",
      "Modelo: Random Forest\n",
      "Score del modelo (R^2 - train): 0.8978\n",
      "R^2 score (test): 0.3172\n",
      "MAE score: 0.4833\n",
      "MSE score: 0.4211\n",
      "RMSE score: 0.649\n",
      "------------------------------\n",
      "Modelo: Hist Gradient Boosting\n",
      "Score del modelo (R^2 - train): 0.3832\n",
      "R^2 score (test): 0.2473\n",
      "MAE score: 0.5016\n",
      "MSE score: 0.4642\n",
      "RMSE score: 0.6813\n",
      "------------------------------\n",
      "Modelo: Linear Regression\n",
      "Score del modelo (R^2 - train): 0.4186\n",
      "R^2 score (test): 0.3821\n",
      "MAE score: 0.4567\n",
      "MSE score: 0.3811\n",
      "RMSE score: 0.6173\n",
      "------------------------------\n",
      "Modelo: Ridge Regression\n",
      "Score del modelo (R^2 - train): 0.4156\n",
      "R^2 score (test): 0.3787\n",
      "MAE score: 0.4572\n",
      "MSE score: 0.3832\n",
      "RMSE score: 0.619\n",
      "------------------------------\n",
      "Modelo: Lasso Regression\n",
      "Score del modelo (R^2 - train): 0.0013\n",
      "R^2 score (test): 0.001\n",
      "MAE score: 0.5691\n",
      "MSE score: 0.6162\n",
      "RMSE score: 0.785\n",
      "------------------------------\n"
     ]
    }
   ],
   "source": [
    "\n",
    "\n",
    "models = {\n",
    "    \"Decision Tree\": DecisionTreeRegressor(random_state=42),\n",
    "    \"Random Forest\": RandomForestRegressor(random_state=42, n_estimators=100),\n",
    "    \"Hist Gradient Boosting\": HistGradientBoostingRegressor(\n",
    "        random_state=42,\n",
    "        min_samples_leaf=20,\n",
    "        max_leaf_nodes=15,\n",
    "        max_iter=300,\n",
    "        max_depth=5,\n",
    "        learning_rate=0.05,\n",
    "        l2_regularization=5\n",
    "    ),\n",
    "    \"Linear Regression\": LinearRegression(),\n",
    "    \"Ridge Regression\": Ridge(random_state=42),\n",
    "    \"Lasso Regression\": Lasso(random_state=42)\n",
    "}\n",
    "\n",
    "for name, model in models.items():\n",
    "    model.fit(X_train, y_train)\n",
    "    y_pred = model.predict(X_test)\n",
    "    print(f\"Modelo: {name}\")\n",
    "    print(\"Score del modelo (R^2 - train):\", round(model.score(X_train, y_train), 4))\n",
    "    print(\"R^2 score (test):\", round(r2_score(y_test, y_pred), 4))\n",
    "    print(\"MAE score:\", round(mean_absolute_error(y_test, y_pred), 4))\n",
    "    print(\"MSE score:\", round(mean_squared_error(y_test, y_pred), 4))\n",
    "    print(\"RMSE score:\", round(np.sqrt(mean_squared_error(y_test, y_pred)), 4))\n",
    "    print(\"-\" * 30)"
   ]
  },
  {
   "cell_type": "markdown",
   "id": "a141f591",
   "metadata": {},
   "source": [
    "# 10. Pipelines"
   ]
  },
  {
   "cell_type": "code",
   "execution_count": 98,
   "id": "edfcdecf",
   "metadata": {},
   "outputs": [
    {
     "data": {
      "text/plain": [
       "Index(['rating', 'reviewCount', 'has_variants', 'brand_(author)', 'brand_.us',\n",
       "       'brand_3m', 'brand_Amazon', 'brand_a-premium', 'brand_acdelco',\n",
       "       'brand_atp automotive',\n",
       "       ...\n",
       "       'category_Musical Instruments', 'category_Office Products',\n",
       "       'category_Patio, Lawn & Garden', 'category_Pet Supplies',\n",
       "       'category_Software', 'category_Sports & Outdoors',\n",
       "       'category_Sports Collectibles', 'category_Tools & Home Improvement',\n",
       "       'category_Toys & Games', 'category_Video Games'],\n",
       "      dtype='object', length=119)"
      ]
     },
     "execution_count": 98,
     "metadata": {},
     "output_type": "execute_result"
    }
   ],
   "source": [
    "X_train.columns"
   ]
  },
  {
   "cell_type": "code",
   "execution_count": 99,
   "id": "18a788e5",
   "metadata": {},
   "outputs": [
    {
     "name": "stdout",
     "output_type": "stream",
     "text": [
      "R^2 score (train): 0.2975\n",
      "R^2 score (test): 0.2231\n",
      "MAE score: 0.5070\n",
      "MSE score: 0.4792\n",
      "RMSE score: 0.6922\n"
     ]
    }
   ],
   "source": [
    "\n",
    "\n",
    "# defino numéricas categóricas\n",
    "num_cols = ['rating', 'reviewCount']\n",
    "# las categóricas están one-hot encoded y sin nulos asi que no las toco\n",
    "\n",
    "# imputar mediana en numericas si hay nulos\n",
    "num_transformer = SimpleImputer(strategy='median')\n",
    "\n",
    "preprocessor = ColumnTransformer(\n",
    "    transformers=[\n",
    "        ('num', num_transformer, num_cols)\n",
    "    ],\n",
    "    remainder='passthrough'  # deja el resto tal cual\n",
    ")\n",
    "\n",
    "# Mejores parámetros HistGB: {'min_samples_leaf': 20, 'max_leaf_nodes': 15, 'max_iter': 300, 'max_depth': 7, 'learning_rate': 0.01, 'l2_regularization': 5}\n",
    "\n",
    "# defino modelo con mejores parámetros\n",
    "model = HistGradientBoostingRegressor(\n",
    "    random_state=42,\n",
    "    min_samples_leaf=20,\n",
    "    max_leaf_nodes=15,\n",
    "    max_iter=300,\n",
    "    max_depth=7,\n",
    "    learning_rate=0.01,\n",
    "    l2_regularization=5\n",
    ")\n",
    "\n",
    "# full pipeline\n",
    "pipeline = Pipeline(steps=[\n",
    "    ('preprocessor', preprocessor),\n",
    "    ('regressor', model)\n",
    "])\n",
    "\n",
    "# entreno\n",
    "pipeline.fit(X_train, y_train)\n",
    "\n",
    "# pred\n",
    "y_pred = pipeline.predict(X_test)\n",
    "\n",
    "\n",
    "\n",
    "print(f\"R^2 score (train): {pipeline.score(X_train, y_train):.4f}\")\n",
    "print(f\"R^2 score (test): {r2_score(y_test, y_pred):.4f}\")\n",
    "print(f\"MAE score: {mean_absolute_error(y_test, y_pred):.4f}\")\n",
    "print(f\"MSE score: {mean_squared_error(y_test, y_pred):.4f}\")\n",
    "print(f\"RMSE score: {np.sqrt(mean_squared_error(y_test, y_pred)):.4f}\")"
   ]
  },
  {
   "cell_type": "code",
   "execution_count": 100,
   "id": "b295e588",
   "metadata": {},
   "outputs": [
    {
     "name": "stdout",
     "output_type": "stream",
     "text": [
      "R^2 score (train): 0.4186\n",
      "R^2 score (test): 0.3821\n",
      "MAE score: 0.4567\n",
      "MSE score: 0.3811\n",
      "RMSE score: 0.6173\n"
     ]
    }
   ],
   "source": [
    "\n",
    "\n",
    "\n",
    "\n",
    "# defino numéricas categóricas\n",
    "num_cols = ['rating', 'reviewCount']\n",
    "# las categóricas están one-hot encoded y sin nulos asi que no las toco\n",
    "\n",
    "# imputar mediana en numericas si hay nulos\n",
    "num_transformer = SimpleImputer(strategy='median')\n",
    "\n",
    "preprocessor = ColumnTransformer(\n",
    "    transformers=[\n",
    "        ('num', num_transformer, num_cols)\n",
    "    ],\n",
    "    remainder='passthrough'  # las demás columnas (one-hot) quedan igual\n",
    ")\n",
    "\n",
    "# defino el modelo de regresión lineal\n",
    "model = LinearRegression()\n",
    "\n",
    "# creo pipeline con preprocesador y modelo\n",
    "pipeline = Pipeline(steps=[\n",
    "    ('preprocessor', preprocessor),\n",
    "    ('regressor', model)\n",
    "])\n",
    "\n",
    "# entreno\n",
    "pipeline.fit(X_train, y_train)\n",
    "\n",
    "# predecir\n",
    "y_pred = pipeline.predict(X_test)\n",
    "\n",
    "\n",
    "\n",
    "\n",
    "print(f\"R^2 score (train): {pipeline.score(X_train, y_train):.4f}\")\n",
    "print(f\"R^2 score (test): {r2_score(y_test, y_pred):.4f}\")\n",
    "print(f\"MAE score: {mean_absolute_error(y_test, y_pred):.4f}\")\n",
    "print(f\"MSE score: {mean_squared_error(y_test, y_pred):.4f}\")\n",
    "print(f\"RMSE score: {np.sqrt(mean_squared_error(y_test, y_pred)):.4f}\")"
   ]
  },
  {
   "cell_type": "code",
   "execution_count": 101,
   "id": "232aeba8",
   "metadata": {},
   "outputs": [
    {
     "name": "stdout",
     "output_type": "stream",
     "text": [
      "           Model  Train R^2  Test R^2       MAE       MSE      RMSE\n",
      "0        lin_reg   0.418649  0.382124  0.456692  0.381092  0.617327\n",
      "1          ridge   0.415620  0.378720  0.457241  0.383192  0.619025\n",
      "2          lasso   0.384960  0.354457  0.464423  0.398156  0.630996\n",
      "3  random_forest   0.898650  0.317833  0.491620  0.420745  0.648649\n"
     ]
    }
   ],
   "source": [
    "\n",
    "\n",
    "num_cols = ['rating', 'reviewCount']\n",
    "\n",
    "preprocessor = ColumnTransformer(\n",
    "    transformers=[\n",
    "        ('num', SimpleImputer(strategy='median'), num_cols)\n",
    "    ],\n",
    "    remainder='passthrough'\n",
    ")\n",
    "\n",
    "# defino modelos con sus pipelines\n",
    "pipelines = {\n",
    "    'lin_reg': Pipeline([\n",
    "        ('preprocessor', preprocessor),\n",
    "        ('regressor', LinearRegression())\n",
    "    ]),\n",
    "    'ridge': Pipeline([\n",
    "        ('preprocessor', preprocessor),\n",
    "        ('regressor', Ridge())\n",
    "    ]),\n",
    "    'lasso': Pipeline([\n",
    "        ('preprocessor', preprocessor),\n",
    "        ('regressor', Lasso())\n",
    "    ]),\n",
    "    'random_forest': Pipeline([\n",
    "        ('preprocessor', preprocessor),\n",
    "        ('regressor', RandomForestRegressor(random_state=42))\n",
    "    ])\n",
    "}\n",
    "\n",
    "# hiperparámetros para cada modelo\n",
    "param_grids = {\n",
    "    'lin_reg': {},  \n",
    "    'ridge': {\n",
    "        'regressor__alpha': np.logspace(-3, 3, 7)\n",
    "    },\n",
    "    'lasso': {\n",
    "        'regressor__alpha': np.logspace(-3, 3, 7)\n",
    "    },\n",
    "    'random_forest': {\n",
    "        'regressor__n_estimators': [50, 100],\n",
    "        'regressor__max_depth': [3, 5, 7, None],\n",
    "        'regressor__max_features': ['sqrt', 'log2']\n",
    "    }\n",
    "}\n",
    "\n",
    "# entreno\n",
    "models_gridsearch = {}\n",
    "for name, pipeline in pipelines.items():\n",
    "    grid = GridSearchCV(\n",
    "        pipeline,\n",
    "        param_grid=param_grids[name],\n",
    "        cv=5,\n",
    "        scoring='r2',\n",
    "        n_jobs=-1,\n",
    "        verbose=0\n",
    "    )\n",
    "    grid.fit(X_train, y_train)\n",
    "    models_gridsearch[name] = grid\n",
    "\n",
    "# evalúo resultados\n",
    "results = []\n",
    "for name, grid in models_gridsearch.items():\n",
    "    best_model = grid.best_estimator_\n",
    "    y_pred = best_model.predict(X_test)\n",
    "\n",
    "    results.append({\n",
    "        'Model': name,\n",
    "        'Train R^2': best_model.score(X_train, y_train),\n",
    "        'Test R^2': r2_score(y_test, y_pred),\n",
    "        'MAE': mean_absolute_error(y_test, y_pred),\n",
    "        'MSE': mean_squared_error(y_test, y_pred),\n",
    "        'RMSE': np.sqrt(mean_squared_error(y_test, y_pred))\n",
    "    })\n",
    "\n",
    "# resultados\n",
    "df_results = pd.DataFrame(results).sort_values(by='Test R^2', ascending=False)\n",
    "print(df_results)"
   ]
  },
  {
   "cell_type": "code",
   "execution_count": 102,
   "id": "e09f0bfb",
   "metadata": {},
   "outputs": [
    {
     "data": {
      "image/png": "[encoded data removed]",
      "text/plain": [
       "<Figure size 640x480 with 1 Axes>"
      ]
     },
     "metadata": {},
     "output_type": "display_data"
    }
   ],
   "source": [
    "melted = df_results.melt(id_vars='Model', value_vars=['Test R^2', 'MAE', 'RMSE'])\n",
    "sns.barplot(data=melted, x='Model', y='value', hue='variable')\n",
    "plt.title('Comparación de modelos')\n",
    "plt.savefig(\"../img/comp_modelos.png\") \n",
    "plt.show()\n",
    "\n"
   ]
  }
 ],
 "metadata": {
  "kernelspec": {
   "display_name": "Python 3",
   "language": "python",
   "name": "python3"
  },
  "language_info": {
   "codemirror_mode": {
    "name": "ipython",
    "version": 3
   },
   "file_extension": ".py",
   "mimetype": "text/x-python",
   "name": "python",
   "nbconvert_exporter": "python",
   "pygments_lexer": "ipython3",
   "version": "3.10.11"
  }
 },
 "nbformat": 4,
 "nbformat_minor": 5
}
